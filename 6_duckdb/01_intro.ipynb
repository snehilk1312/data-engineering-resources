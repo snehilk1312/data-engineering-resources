{
 "cells": [
  {
   "cell_type": "code",
   "execution_count": 1,
   "metadata": {},
   "outputs": [],
   "source": [
    "import duckdb"
   ]
  },
  {
   "cell_type": "code",
   "execution_count": 12,
   "metadata": {},
   "outputs": [],
   "source": [
    "df = duckdb.read_csv('~/Downloads/entertainment_music.csv',header=True,sep=',',\n",
    "                     names=['sr_no','post_text', 'post_id', 'subreddit', 'category', 'timestamp', 'username', 'post_score', 'unknown_column1', 'comment_count', 'post_rank', 'unknown_column2']\n",
    "                     )"
   ]
  },
  {
   "cell_type": "code",
   "execution_count": 13,
   "metadata": {},
   "outputs": [
    {
     "data": {
      "text/plain": [
       "┌───────┬──────────────────────┬─────────┬───────────┬───┬───────────────┬───────────┬─────────────────┐\n",
       "│ sr_no │      post_text       │ post_id │ subreddit │ … │ comment_count │ post_rank │ unknown_column2 │\n",
       "│ int64 │       varchar        │ varchar │  varchar  │   │     int64     │   int64   │     double      │\n",
       "├───────┼──────────────────────┼─────────┼───────────┼───┼───────────────┼───────────┼─────────────────┤\n",
       "│     0 │ NULL                 │ 4655ak  │ music     │ … │            67 │      1289 │             0.0 │\n",
       "│     1 │ love this song  it…  │ d02luc0 │ music     │ … │          9232 │     30215 │             0.0 │\n",
       "│     2 │ NULL                 │ 464qp8  │ music     │ … │        233808 │     38064 │             0.0 │\n",
       "│     3 │ NULL                 │ 4639dt  │ music     │ … │          1597 │     43795 │             0.0 │\n",
       "│     4 │ there s a sadness …  │ d02nqhd │ music     │ … │           782 │      5193 │             0.0 │\n",
       "│     5 │ nofx is pop punk p…  │ d02nc1a │ music     │ … │             1 │      3745 │             0.0 │\n",
       "│     6 │ what a fantastic w…  │ d01yagt │ music     │ … │           519 │      5804 │             0.0 │\n",
       "│     7 │ first song i learn…  │ d02cmbu │ music     │ … │         12980 │     79972 │             0.0 │\n",
       "│     8 │ best of luck findi…  │ cv1u0fa │ music     │ … │        162759 │    272596 │             1.0 │\n",
       "│     9 │ gt  what is your r…  │ cxmznjr │ music     │ … │         25197 │     77587 │             1.0 │\n",
       "│     · │          ·           │    ·    │   ·       │ · │            ·  │       ·   │              ·  │\n",
       "│     · │          ·           │    ·    │   ·       │ · │            ·  │       ·   │              ·  │\n",
       "│     · │          ·           │    ·    │   ·       │ · │            ·  │       ·   │              ·  │\n",
       "│  9990 │ gt  what is the bi…  │ d02b6ed │ music     │ … │           531 │     21167 │             0.0 │\n",
       "│  9991 │ what does it pay     │ cx7wn0a │ music     │ … │             2 │      4347 │             0.0 │\n",
       "│  9992 │ i would fill this …  │ cx8sw18 │ music     │ … │          1639 │      2354 │             0.0 │\n",
       "│  9993 │ there should be a …  │ cxfu5b9 │ music     │ … │            10 │       441 │             0.0 │\n",
       "│  9994 │ NULL                 │ 466go8  │ music     │ … │          3040 │      1004 │             0.0 │\n",
       "│  9995 │ NULL                 │ 464kh2  │ music     │ … │         17399 │      7306 │             0.0 │\n",
       "│  9996 │ in case no one kno…  │ d02dzce │ music     │ … │            18 │     13062 │             0.0 │\n",
       "│  9997 │ i love the laid ba…  │ d02evo7 │ music     │ … │           524 │     35870 │             0.0 │\n",
       "│  9998 │ NULL                 │ 465us5  │ music     │ … │           648 │       287 │             0.0 │\n",
       "│  9999 │ the australianbrit…  │ 466g0s  │ music     │ … │             1 │       309 │             0.0 │\n",
       "├───────┴──────────────────────┴─────────┴───────────┴───┴───────────────┴───────────┴─────────────────┤\n",
       "│ ? rows (>9999 rows, 20 shown)                                                   12 columns (7 shown) │\n",
       "└──────────────────────────────────────────────────────────────────────────────────────────────────────┘"
      ]
     },
     "execution_count": 13,
     "metadata": {},
     "output_type": "execute_result"
    }
   ],
   "source": [
    "df"
   ]
  },
  {
   "cell_type": "code",
   "execution_count": 14,
   "metadata": {},
   "outputs": [
    {
     "data": {
      "text/plain": [
       "['sr_no',\n",
       " 'post_text',\n",
       " 'post_id',\n",
       " 'subreddit',\n",
       " 'category',\n",
       " 'timestamp',\n",
       " 'username',\n",
       " 'post_score',\n",
       " 'unknown_column1',\n",
       " 'comment_count',\n",
       " 'post_rank',\n",
       " 'unknown_column2']"
      ]
     },
     "execution_count": 14,
     "metadata": {},
     "output_type": "execute_result"
    }
   ],
   "source": [
    "df.columns"
   ]
  },
  {
   "cell_type": "code",
   "execution_count": 9,
   "metadata": {},
   "outputs": [
    {
     "data": {
      "text/plain": [
       "duckdb.duckdb.DuckDBPyRelation"
      ]
     },
     "execution_count": 9,
     "metadata": {},
     "output_type": "execute_result"
    }
   ],
   "source": [
    "type(df)"
   ]
  },
  {
   "cell_type": "code",
   "execution_count": 17,
   "metadata": {},
   "outputs": [
    {
     "ename": "TypeError",
     "evalue": "'duckdb.duckdb.DuckDBPyRelation' object is not callable",
     "output_type": "error",
     "traceback": [
      "\u001b[0;31m---------------------------------------------------------------------------\u001b[0m",
      "\u001b[0;31mTypeError\u001b[0m                                 Traceback (most recent call last)",
      "Cell \u001b[0;32mIn[17], line 1\u001b[0m\n\u001b[0;32m----> 1\u001b[0m \u001b[43mdf\u001b[49m\u001b[38;5;241;43m.\u001b[39;49m\u001b[43mpost_text\u001b[49m\u001b[43m(\u001b[49m\u001b[43mnew_column\u001b[49m\u001b[43m \u001b[49m\u001b[38;5;241;43m=\u001b[39;49m\u001b[43m \u001b[49m\u001b[38;5;124;43m'\u001b[39;49m\u001b[38;5;124;43mnew_value\u001b[39;49m\u001b[38;5;124;43m'\u001b[39;49m\u001b[43m)\u001b[49m\n",
      "\u001b[0;31mTypeError\u001b[0m: 'duckdb.duckdb.DuckDBPyRelation' object is not callable"
     ]
    }
   ],
   "source": [
    "df.post_text(new_column = 'new_value')"
   ]
  },
  {
   "cell_type": "code",
   "execution_count": null,
   "metadata": {},
   "outputs": [],
   "source": []
  }
 ],
 "metadata": {
  "kernelspec": {
   "display_name": ".dev_env",
   "language": "python",
   "name": "python3"
  },
  "language_info": {
   "codemirror_mode": {
    "name": "ipython",
    "version": 3
   },
   "file_extension": ".py",
   "mimetype": "text/x-python",
   "name": "python",
   "nbconvert_exporter": "python",
   "pygments_lexer": "ipython3",
   "version": "3.10.12"
  }
 },
 "nbformat": 4,
 "nbformat_minor": 2
}
