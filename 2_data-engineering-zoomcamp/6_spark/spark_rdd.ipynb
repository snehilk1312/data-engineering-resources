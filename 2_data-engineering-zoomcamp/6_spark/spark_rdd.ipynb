{
 "cells": [
  {
   "cell_type": "code",
   "execution_count": 1,
   "metadata": {},
   "outputs": [],
   "source": [
    "import pyspark\n",
    "from pyspark.sql import SparkSession,types\n",
    "import pandas as pd"
   ]
  },
  {
   "cell_type": "code",
   "execution_count": 2,
   "metadata": {},
   "outputs": [
    {
     "name": "stderr",
     "output_type": "stream",
     "text": [
      "your 131072x1 screen size is bogus. expect trouble\n",
      "23/04/17 07:04:54 WARN Utils: Your hostname, MSI resolves to a loopback address: 127.0.1.1; using 172.25.167.220 instead (on interface eth0)\n",
      "23/04/17 07:04:54 WARN Utils: Set SPARK_LOCAL_IP if you need to bind to another address\n",
      "Setting default log level to \"WARN\".\n",
      "To adjust logging level use sc.setLogLevel(newLevel). For SparkR, use setLogLevel(newLevel).\n",
      "23/04/17 07:04:56 WARN NativeCodeLoader: Unable to load native-hadoop library for your platform... using builtin-java classes where applicable\n"
     ]
    }
   ],
   "source": [
    "spark = SparkSession.builder.master(\"local[*]\").appName('rdd').getOrCreate()"
   ]
  },
  {
   "cell_type": "code",
   "execution_count": 5,
   "metadata": {},
   "outputs": [],
   "source": [
    "df_green = spark.read.parquet('data/pq/green/*/*')"
   ]
  },
  {
   "cell_type": "code",
   "execution_count": 6,
   "metadata": {},
   "outputs": [
    {
     "name": "stdout",
     "output_type": "stream",
     "text": [
      "+--------+--------------------+---------------------+------------------+----------+------------+------------+---------------+-------------+-----------+-----+-------+----------+------------+---------+---------------------+------------+------------+---------+--------------------+\n",
      "|VendorID|lpep_pickup_datetime|lpep_dropoff_datetime|store_and_fwd_flag|RatecodeID|PULocationID|DOLocationID|passenger_count|trip_distance|fare_amount|extra|mta_tax|tip_amount|tolls_amount|ehail_fee|improvement_surcharge|total_amount|payment_type|trip_type|congestion_surcharge|\n",
      "+--------+--------------------+---------------------+------------------+----------+------------+------------+---------------+-------------+-----------+-----+-------+----------+------------+---------+---------------------+------------+------------+---------+--------------------+\n",
      "|       2| 2020-01-27 23:23:13|  2020-01-27 23:33:22|                 N|         1|         260|         223|              1|         2.98|       11.5|  0.5|    0.5|       3.2|         0.0|     null|                  0.3|        16.0|           1|        1|                 0.0|\n",
      "|    null| 2020-01-30 20:30:00|  2020-01-30 20:51:00|              null|      null|         238|          47|           null|         7.65|      25.46| 2.75|    0.0|       0.0|         0.0|     null|                  0.3|       28.51|        null|     null|                null|\n",
      "|    null| 2020-01-22 18:13:00|  2020-01-22 18:32:00|              null|      null|          82|          95|           null|         1.83|      19.06| 2.75|    0.0|       0.0|         0.0|     null|                  0.3|       22.11|        null|     null|                null|\n",
      "|       2| 2020-01-04 18:12:24|  2020-01-04 18:21:13|                 N|         1|          42|         244|              1|         1.65|        8.0|  0.0|    0.5|       0.0|         0.0|     null|                  0.3|         8.8|           2|        1|                 0.0|\n",
      "|       2| 2020-01-27 11:53:00|  2020-01-27 12:19:32|                 N|         5|          82|         197|              1|         6.38|      18.22|  0.0|    0.5|       0.0|         0.0|     null|                  0.3|       19.02|           2|        2|                 0.0|\n",
      "+--------+--------------------+---------------------+------------------+----------+------------+------------+---------------+-------------+-----------+-----+-------+----------+------------+---------+---------------------+------------+------------+---------+--------------------+\n",
      "only showing top 5 rows\n",
      "\n"
     ]
    }
   ],
   "source": [
    "df_green.show(5)"
   ]
  },
  {
   "cell_type": "code",
   "execution_count": 7,
   "metadata": {},
   "outputs": [
    {
     "name": "stderr",
     "output_type": "stream",
     "text": [
      "                                                                                \r"
     ]
    },
    {
     "data": {
      "text/plain": [
       "[Row(VendorID=2, lpep_pickup_datetime=datetime.datetime(2020, 1, 27, 23, 23, 13), lpep_dropoff_datetime=datetime.datetime(2020, 1, 27, 23, 33, 22), store_and_fwd_flag='N', RatecodeID=1, PULocationID=260, DOLocationID=223, passenger_count=1, trip_distance=2.98, fare_amount=11.5, extra=0.5, mta_tax=0.5, tip_amount=3.2, tolls_amount=0.0, ehail_fee=None, improvement_surcharge=0.3, total_amount=16.0, payment_type=1, trip_type=1, congestion_surcharge=0.0),\n",
       " Row(VendorID=None, lpep_pickup_datetime=datetime.datetime(2020, 1, 30, 20, 30), lpep_dropoff_datetime=datetime.datetime(2020, 1, 30, 20, 51), store_and_fwd_flag=None, RatecodeID=None, PULocationID=238, DOLocationID=47, passenger_count=None, trip_distance=7.65, fare_amount=25.46, extra=2.75, mta_tax=0.0, tip_amount=0.0, tolls_amount=0.0, ehail_fee=None, improvement_surcharge=0.3, total_amount=28.51, payment_type=None, trip_type=None, congestion_surcharge=None),\n",
       " Row(VendorID=None, lpep_pickup_datetime=datetime.datetime(2020, 1, 22, 18, 13), lpep_dropoff_datetime=datetime.datetime(2020, 1, 22, 18, 32), store_and_fwd_flag=None, RatecodeID=None, PULocationID=82, DOLocationID=95, passenger_count=None, trip_distance=1.83, fare_amount=19.06, extra=2.75, mta_tax=0.0, tip_amount=0.0, tolls_amount=0.0, ehail_fee=None, improvement_surcharge=0.3, total_amount=22.11, payment_type=None, trip_type=None, congestion_surcharge=None),\n",
       " Row(VendorID=2, lpep_pickup_datetime=datetime.datetime(2020, 1, 4, 18, 12, 24), lpep_dropoff_datetime=datetime.datetime(2020, 1, 4, 18, 21, 13), store_and_fwd_flag='N', RatecodeID=1, PULocationID=42, DOLocationID=244, passenger_count=1, trip_distance=1.65, fare_amount=8.0, extra=0.0, mta_tax=0.5, tip_amount=0.0, tolls_amount=0.0, ehail_fee=None, improvement_surcharge=0.3, total_amount=8.8, payment_type=2, trip_type=1, congestion_surcharge=0.0),\n",
       " Row(VendorID=2, lpep_pickup_datetime=datetime.datetime(2020, 1, 27, 11, 53), lpep_dropoff_datetime=datetime.datetime(2020, 1, 27, 12, 19, 32), store_and_fwd_flag='N', RatecodeID=5, PULocationID=82, DOLocationID=197, passenger_count=1, trip_distance=6.38, fare_amount=18.22, extra=0.0, mta_tax=0.5, tip_amount=0.0, tolls_amount=0.0, ehail_fee=None, improvement_surcharge=0.3, total_amount=19.02, payment_type=2, trip_type=2, congestion_surcharge=0.0)]"
      ]
     },
     "execution_count": 7,
     "metadata": {},
     "output_type": "execute_result"
    }
   ],
   "source": [
    "df_green.rdd.take(5)"
   ]
  },
  {
   "cell_type": "code",
   "execution_count": 12,
   "metadata": {},
   "outputs": [
    {
     "name": "stdout",
     "output_type": "stream",
     "text": [
      "root\n",
      " |-- VendorID: integer (nullable = true)\n",
      " |-- lpep_pickup_datetime: timestamp (nullable = true)\n",
      " |-- lpep_dropoff_datetime: timestamp (nullable = true)\n",
      " |-- store_and_fwd_flag: string (nullable = true)\n",
      " |-- RatecodeID: integer (nullable = true)\n",
      " |-- PULocationID: integer (nullable = true)\n",
      " |-- DOLocationID: integer (nullable = true)\n",
      " |-- passenger_count: integer (nullable = true)\n",
      " |-- trip_distance: double (nullable = true)\n",
      " |-- fare_amount: double (nullable = true)\n",
      " |-- extra: double (nullable = true)\n",
      " |-- mta_tax: double (nullable = true)\n",
      " |-- tip_amount: double (nullable = true)\n",
      " |-- tolls_amount: double (nullable = true)\n",
      " |-- ehail_fee: double (nullable = true)\n",
      " |-- improvement_surcharge: double (nullable = true)\n",
      " |-- total_amount: double (nullable = true)\n",
      " |-- payment_type: integer (nullable = true)\n",
      " |-- trip_type: integer (nullable = true)\n",
      " |-- congestion_surcharge: double (nullable = true)\n",
      "\n"
     ]
    }
   ],
   "source": [
    "df_green.printSchema()"
   ]
  },
  {
   "cell_type": "code",
   "execution_count": 24,
   "metadata": {},
   "outputs": [],
   "source": [
    "rdd = df_green.\\\n",
    "    select('lpep_pickup_datetime','PULocationID','total_amount','tip_amount').\\\n",
    "    rdd"
   ]
  },
  {
   "cell_type": "code",
   "execution_count": 25,
   "metadata": {},
   "outputs": [
    {
     "data": {
      "text/plain": [
       "[Row(lpep_pickup_datetime=datetime.datetime(2020, 1, 27, 23, 23, 13), PULocationID=260, total_amount=16.0, tip_amount=3.2),\n",
       " Row(lpep_pickup_datetime=datetime.datetime(2020, 1, 30, 20, 30), PULocationID=238, total_amount=28.51, tip_amount=0.0),\n",
       " Row(lpep_pickup_datetime=datetime.datetime(2020, 1, 22, 18, 13), PULocationID=82, total_amount=22.11, tip_amount=0.0),\n",
       " Row(lpep_pickup_datetime=datetime.datetime(2020, 1, 4, 18, 12, 24), PULocationID=42, total_amount=8.8, tip_amount=0.0),\n",
       " Row(lpep_pickup_datetime=datetime.datetime(2020, 1, 27, 11, 53), PULocationID=82, total_amount=19.02, tip_amount=0.0)]"
      ]
     },
     "execution_count": 25,
     "metadata": {},
     "output_type": "execute_result"
    }
   ],
   "source": [
    "rdd.take(5)"
   ]
  },
  {
   "attachments": {},
   "cell_type": "markdown",
   "metadata": {},
   "source": [
    "#### sql where -> rdd filter"
   ]
  },
  {
   "attachments": {},
   "cell_type": "markdown",
   "metadata": {},
   "source": [
    "```\n",
    "    works on the principle of True and False return,\n",
    "    show rows which are true\n",
    "```"
   ]
  },
  {
   "cell_type": "code",
   "execution_count": 26,
   "metadata": {},
   "outputs": [],
   "source": [
    "from datetime import datetime\n",
    "start = datetime(year=2020,month=1,day=1)"
   ]
  },
  {
   "cell_type": "code",
   "execution_count": 27,
   "metadata": {},
   "outputs": [
    {
     "data": {
      "text/plain": [
       "[Row(lpep_pickup_datetime=datetime.datetime(2020, 1, 27, 23, 23, 13), PULocationID=260, total_amount=16.0, tip_amount=3.2),\n",
       " Row(lpep_pickup_datetime=datetime.datetime(2020, 1, 30, 20, 30), PULocationID=238, total_amount=28.51, tip_amount=0.0),\n",
       " Row(lpep_pickup_datetime=datetime.datetime(2020, 1, 22, 18, 13), PULocationID=82, total_amount=22.11, tip_amount=0.0),\n",
       " Row(lpep_pickup_datetime=datetime.datetime(2020, 1, 4, 18, 12, 24), PULocationID=42, total_amount=8.8, tip_amount=0.0),\n",
       " Row(lpep_pickup_datetime=datetime.datetime(2020, 1, 27, 11, 53), PULocationID=82, total_amount=19.02, tip_amount=0.0),\n",
       " Row(lpep_pickup_datetime=datetime.datetime(2020, 1, 29, 15, 35), PULocationID=7, total_amount=47.42, tip_amount=0.0),\n",
       " Row(lpep_pickup_datetime=datetime.datetime(2020, 1, 2, 11, 32), PULocationID=66, total_amount=12.3, tip_amount=0.0),\n",
       " Row(lpep_pickup_datetime=datetime.datetime(2020, 1, 4, 9, 40, 17), PULocationID=42, total_amount=7.3, tip_amount=0.0),\n",
       " Row(lpep_pickup_datetime=datetime.datetime(2020, 1, 18, 21, 41, 43), PULocationID=129, total_amount=5.3, tip_amount=0.0),\n",
       " Row(lpep_pickup_datetime=datetime.datetime(2020, 1, 11, 18, 43, 11), PULocationID=41, total_amount=8.3, tip_amount=0.0)]"
      ]
     },
     "execution_count": 27,
     "metadata": {},
     "output_type": "execute_result"
    }
   ],
   "source": [
    "rdd.filter(lambda row:row.lpep_pickup_datetime>=start).take(10)"
   ]
  },
  {
   "attachments": {},
   "cell_type": "markdown",
   "metadata": {},
   "source": [
    "### sql group by -> map+reduce"
   ]
  },
  {
   "cell_type": "code",
   "execution_count": 32,
   "metadata": {},
   "outputs": [],
   "source": [
    "def mapper(row):\n",
    "    hour = row.lpep_pickup_datetime.replace(minute=0,second=0,microsecond=0)\n",
    "    zone = row.PULocationID\n",
    "\n",
    "    amount = row.total_amount\n",
    "    tip = row.tip_amount\n",
    "    count = 1\n",
    "\n",
    "    key = (hour, zone)\n",
    "    value = (amount,tip,count)\n",
    "\n",
    "    return (key, value)"
   ]
  },
  {
   "cell_type": "code",
   "execution_count": 33,
   "metadata": {},
   "outputs": [
    {
     "data": {
      "text/plain": [
       "[((datetime.datetime(2020, 1, 27, 23, 0), 260), (16.0, 3.2, 1)),\n",
       " ((datetime.datetime(2020, 1, 30, 20, 0), 238), (28.51, 0.0, 1)),\n",
       " ((datetime.datetime(2020, 1, 22, 18, 0), 82), (22.11, 0.0, 1)),\n",
       " ((datetime.datetime(2020, 1, 4, 18, 0), 42), (8.8, 0.0, 1)),\n",
       " ((datetime.datetime(2020, 1, 27, 11, 0), 82), (19.02, 0.0, 1))]"
      ]
     },
     "execution_count": 33,
     "metadata": {},
     "output_type": "execute_result"
    }
   ],
   "source": [
    "rdd.\\\n",
    "    filter(lambda row:row.lpep_pickup_datetime>=start).\\\n",
    "    map(mapper).take(5)"
   ]
  },
  {
   "cell_type": "code",
   "execution_count": 55,
   "metadata": {},
   "outputs": [],
   "source": [
    "def reducer(val1,val2):\n",
    "    val1_amount,val1_tip,val1_count = val1\n",
    "    val2_amount,val2_tip,val2_count = val2\n",
    "\n",
    "    output_amount = val1_amount+val2_amount\n",
    "    output_tip = (val1_tip*val1_count+val2_tip*val2_count)/(val1_count+val2_count)\n",
    "    output_count = val1_count+val2_count\n",
    "\n",
    "    return (output_amount,output_tip,output_count)\n"
   ]
  },
  {
   "cell_type": "code",
   "execution_count": 56,
   "metadata": {},
   "outputs": [
    {
     "name": "stderr",
     "output_type": "stream",
     "text": [
      "                                                                                \r"
     ]
    },
    {
     "data": {
      "text/plain": [
       "[((datetime.datetime(2020, 1, 27, 23, 0), 260),\n",
       "  (154.26, 0.7506666666666665, 15)),\n",
       " ((datetime.datetime(2020, 1, 4, 9, 0), 42),\n",
       "  (426.55000000000024, 0.18777777777777777, 36)),\n",
       " ((datetime.datetime(2020, 1, 11, 18, 0), 41),\n",
       "  (476.0100000000002, 0.7775555555555554, 45)),\n",
       " ((datetime.datetime(2020, 1, 22, 12, 0), 244),\n",
       "  (352.26000000000016, 0.7647619047619049, 21)),\n",
       " ((datetime.datetime(2020, 1, 22, 15, 0), 177), (56.28, 0.0, 3))]"
      ]
     },
     "execution_count": 56,
     "metadata": {},
     "output_type": "execute_result"
    }
   ],
   "source": [
    "rdd.\\\n",
    "    filter(lambda row:row.lpep_pickup_datetime>=start).\\\n",
    "    map(mapper).\\\n",
    "    reduceByKey(reducer).take(5)"
   ]
  },
  {
   "cell_type": "code",
   "execution_count": 57,
   "metadata": {},
   "outputs": [],
   "source": [
    "# converting into unnested structure\n",
    "def unwrap(row):\n",
    "    return (row[0][0],row[0][1],row[1][0],row[1][1],row[1][2])"
   ]
  },
  {
   "cell_type": "code",
   "execution_count": 59,
   "metadata": {},
   "outputs": [
    {
     "name": "stderr",
     "output_type": "stream",
     "text": [
      "                                                                                \r"
     ]
    },
    {
     "data": {
      "text/plain": [
       "[(datetime.datetime(2020, 1, 27, 23, 0), 260, 154.26, 0.7506666666666665, 15),\n",
       " (datetime.datetime(2020, 1, 4, 9, 0),\n",
       "  42,\n",
       "  426.55000000000024,\n",
       "  0.18777777777777777,\n",
       "  36),\n",
       " (datetime.datetime(2020, 1, 11, 18, 0),\n",
       "  41,\n",
       "  476.0100000000002,\n",
       "  0.7775555555555554,\n",
       "  45),\n",
       " (datetime.datetime(2020, 1, 22, 12, 0),\n",
       "  244,\n",
       "  352.26000000000016,\n",
       "  0.7647619047619049,\n",
       "  21),\n",
       " (datetime.datetime(2020, 1, 22, 15, 0), 177, 56.28, 0.0, 3)]"
      ]
     },
     "execution_count": 59,
     "metadata": {},
     "output_type": "execute_result"
    }
   ],
   "source": [
    "rdd.\\\n",
    "    filter(lambda row:row.lpep_pickup_datetime>=start).\\\n",
    "    map(mapper).\\\n",
    "    reduceByKey(reducer).\\\n",
    "    map(unwrap).take(5)"
   ]
  },
  {
   "cell_type": "code",
   "execution_count": 60,
   "metadata": {},
   "outputs": [
    {
     "name": "stderr",
     "output_type": "stream",
     "text": [
      "                                                                                \r"
     ]
    },
    {
     "name": "stdout",
     "output_type": "stream",
     "text": [
      "+-------------------+---+------------------+-------------------+---+\n",
      "|                 _1| _2|                _3|                 _4| _5|\n",
      "+-------------------+---+------------------+-------------------+---+\n",
      "|2020-01-27 23:00:00|260|            154.26| 0.7506666666666665| 15|\n",
      "|2020-01-04 09:00:00| 42|426.55000000000024|0.18777777777777777| 36|\n",
      "|2020-01-11 18:00:00| 41| 476.0100000000002| 0.7775555555555554| 45|\n",
      "|2020-01-22 12:00:00|244|352.26000000000016| 0.7647619047619049| 21|\n",
      "|2020-01-22 15:00:00|177|             56.28|                0.0|  3|\n",
      "|2020-01-17 14:00:00|  7| 350.2100000000001| 0.6464705882352941| 34|\n",
      "|2020-01-15 21:00:00| 74|458.28000000000014| 1.0058333333333336| 36|\n",
      "|2020-01-19 12:00:00|166| 775.6199999999997|  1.741702127659575| 47|\n",
      "|2020-01-29 08:00:00| 75| 767.3899999999995| 1.1294915254237288| 59|\n",
      "|2020-01-19 00:00:00| 25|            142.75|               0.95| 11|\n",
      "|2020-01-28 10:00:00| 41| 523.9100000000001|  1.151621621621622| 37|\n",
      "|2020-01-03 15:00:00|134|126.17999999999999| 0.7755555555555556|  9|\n",
      "|2020-01-07 16:00:00|213|            210.27|                0.0|  8|\n",
      "|2020-01-03 09:00:00|181|            264.68| 0.6014285714285714| 14|\n",
      "|2020-01-28 12:00:00| 74| 694.6599999999999| 1.2117021276595745| 47|\n",
      "|2020-01-21 13:00:00| 41| 420.8800000000002| 0.7237837837837837| 37|\n",
      "|2020-01-17 17:00:00| 75|1794.5799999999979| 1.4413821138211382|123|\n",
      "|2020-01-06 08:00:00| 42| 773.5299999999995| 0.5591071428571428| 56|\n",
      "|2020-01-17 09:00:00|193|             77.61|              1.135|  6|\n",
      "|2020-01-24 12:00:00| 92|             51.36| 1.4866666666666666|  3|\n",
      "+-------------------+---+------------------+-------------------+---+\n",
      "only showing top 20 rows\n",
      "\n"
     ]
    }
   ],
   "source": [
    "# converting to df -> schema will be lost\n",
    "rdd.\\\n",
    "    filter(lambda row:row.lpep_pickup_datetime>=start).\\\n",
    "    map(mapper).\\\n",
    "    reduceByKey(reducer).\\\n",
    "    map(unwrap).\\\n",
    "    toDF().\\\n",
    "    show()"
   ]
  },
  {
   "cell_type": "code",
   "execution_count": 62,
   "metadata": {},
   "outputs": [],
   "source": [
    "# for schema using namedtuple\n",
    "from collections import namedtuple\n",
    "RevenueRow = namedtuple('RevenueRow',['hour','zone','revenue','tip','count'])"
   ]
  },
  {
   "cell_type": "code",
   "execution_count": 63,
   "metadata": {},
   "outputs": [],
   "source": [
    "# converting into unnested structure\n",
    "def unwrapNamed(row):\n",
    "    return RevenueRow(row[0][0],row[0][1],row[1][0],row[1][1],row[1][2])"
   ]
  },
  {
   "cell_type": "code",
   "execution_count": null,
   "metadata": {},
   "outputs": [],
   "source": [
    "from pyspark.sql import "
   ]
  },
  {
   "cell_type": "code",
   "execution_count": 67,
   "metadata": {},
   "outputs": [
    {
     "name": "stderr",
     "output_type": "stream",
     "text": [
      "                                                                                \r"
     ]
    }
   ],
   "source": [
    "# converting to df -> schema will be there\n",
    "df_rdd_final = rdd.\\\n",
    "    filter(lambda row:row.lpep_pickup_datetime>=start).\\\n",
    "    map(mapper).\\\n",
    "    reduceByKey(reducer).\\\n",
    "    map(unwrapNamed).\\\n",
    "    toDF()"
   ]
  },
  {
   "cell_type": "code",
   "execution_count": 69,
   "metadata": {},
   "outputs": [
    {
     "name": "stdout",
     "output_type": "stream",
     "text": [
      "+-------------------+----+------------------+-------------------+-----+\n",
      "|               hour|zone|           revenue|                tip|count|\n",
      "+-------------------+----+------------------+-------------------+-----+\n",
      "|2020-01-27 23:00:00| 260|            154.26| 0.7506666666666665|   15|\n",
      "|2020-01-04 09:00:00|  42|426.55000000000024|0.18777777777777777|   36|\n",
      "|2020-01-11 18:00:00|  41| 476.0100000000002| 0.7775555555555554|   45|\n",
      "|2020-01-22 12:00:00| 244|352.26000000000016| 0.7647619047619049|   21|\n",
      "|2020-01-22 15:00:00| 177|             56.28|                0.0|    3|\n",
      "|2020-01-17 14:00:00|   7| 350.2100000000001| 0.6464705882352941|   34|\n",
      "|2020-01-15 21:00:00|  74|458.28000000000014| 1.0058333333333336|   36|\n",
      "|2020-01-19 12:00:00| 166| 775.6199999999997|  1.741702127659575|   47|\n",
      "|2020-01-29 08:00:00|  75| 767.3899999999995| 1.1294915254237288|   59|\n",
      "|2020-01-19 00:00:00|  25|            142.75|               0.95|   11|\n",
      "|2020-01-28 10:00:00|  41| 523.9100000000001|  1.151621621621622|   37|\n",
      "|2020-01-03 15:00:00| 134|126.17999999999999| 0.7755555555555556|    9|\n",
      "|2020-01-07 16:00:00| 213|            210.27|                0.0|    8|\n",
      "|2020-01-03 09:00:00| 181|            264.68| 0.6014285714285714|   14|\n",
      "|2020-01-28 12:00:00|  74| 694.6599999999999| 1.2117021276595745|   47|\n",
      "|2020-01-21 13:00:00|  41| 420.8800000000002| 0.7237837837837837|   37|\n",
      "|2020-01-17 17:00:00|  75|1794.5799999999979| 1.4413821138211382|  123|\n",
      "|2020-01-06 08:00:00|  42| 773.5299999999995| 0.5591071428571428|   56|\n",
      "|2020-01-17 09:00:00| 193|             77.61|              1.135|    6|\n",
      "|2020-01-24 12:00:00|  92|             51.36| 1.4866666666666666|    3|\n",
      "+-------------------+----+------------------+-------------------+-----+\n",
      "only showing top 20 rows\n",
      "\n"
     ]
    }
   ],
   "source": [
    "df_rdd_final.show()"
   ]
  },
  {
   "cell_type": "code",
   "execution_count": 72,
   "metadata": {},
   "outputs": [],
   "source": [
    "schema = types.StructType([\n",
    "            types.StructField('hour',types.TimestampType(), True), \n",
    "            types.StructField('zone',types.LongType(), True), \n",
    "            types.StructField('revenue',types.DoubleType(), True), \n",
    "            types.StructField('tip',types.DoubleType(), True), \n",
    "            types.StructField('count',types.LongType(), True)])"
   ]
  },
  {
   "cell_type": "code",
   "execution_count": 73,
   "metadata": {},
   "outputs": [],
   "source": [
    "# converting to df -> schema will be there\n",
    "df_rdd_final = rdd.\\\n",
    "    filter(lambda row:row.lpep_pickup_datetime>=start).\\\n",
    "    map(mapper).\\\n",
    "    reduceByKey(reducer).\\\n",
    "    map(unwrapNamed).\\\n",
    "    toDF(schema)"
   ]
  },
  {
   "cell_type": "code",
   "execution_count": 74,
   "metadata": {},
   "outputs": [
    {
     "name": "stderr",
     "output_type": "stream",
     "text": [
      "                                                                                \r"
     ]
    },
    {
     "name": "stdout",
     "output_type": "stream",
     "text": [
      "+-------------------+----+------------------+-------------------+-----+\n",
      "|               hour|zone|           revenue|                tip|count|\n",
      "+-------------------+----+------------------+-------------------+-----+\n",
      "|2020-01-27 23:00:00| 260|            154.26| 0.7506666666666665|   15|\n",
      "|2020-01-04 09:00:00|  42|426.55000000000024|0.18777777777777777|   36|\n",
      "|2020-01-11 18:00:00|  41| 476.0100000000002| 0.7775555555555554|   45|\n",
      "|2020-01-22 12:00:00| 244|352.26000000000016| 0.7647619047619049|   21|\n",
      "|2020-01-22 15:00:00| 177|             56.28|                0.0|    3|\n",
      "|2020-01-17 14:00:00|   7| 350.2100000000001| 0.6464705882352941|   34|\n",
      "|2020-01-15 21:00:00|  74|458.28000000000014| 1.0058333333333336|   36|\n",
      "|2020-01-19 12:00:00| 166| 775.6199999999997|  1.741702127659575|   47|\n",
      "|2020-01-29 08:00:00|  75| 767.3899999999995| 1.1294915254237288|   59|\n",
      "|2020-01-19 00:00:00|  25|            142.75|               0.95|   11|\n",
      "|2020-01-28 10:00:00|  41| 523.9100000000001|  1.151621621621622|   37|\n",
      "|2020-01-03 15:00:00| 134|126.17999999999999| 0.7755555555555556|    9|\n",
      "|2020-01-07 16:00:00| 213|            210.27|                0.0|    8|\n",
      "|2020-01-03 09:00:00| 181|            264.68| 0.6014285714285714|   14|\n",
      "|2020-01-28 12:00:00|  74| 694.6599999999999| 1.2117021276595745|   47|\n",
      "|2020-01-21 13:00:00|  41| 420.8800000000002| 0.7237837837837837|   37|\n",
      "|2020-01-17 17:00:00|  75|1794.5799999999979| 1.4413821138211382|  123|\n",
      "|2020-01-06 08:00:00|  42| 773.5299999999995| 0.5591071428571428|   56|\n",
      "|2020-01-17 09:00:00| 193|             77.61|              1.135|    6|\n",
      "|2020-01-24 12:00:00|  92|             51.36| 1.4866666666666666|    3|\n",
      "+-------------------+----+------------------+-------------------+-----+\n",
      "only showing top 20 rows\n",
      "\n"
     ]
    }
   ],
   "source": [
    "df_rdd_final.show()"
   ]
  },
  {
   "cell_type": "code",
   "execution_count": 75,
   "metadata": {},
   "outputs": [
    {
     "name": "stderr",
     "output_type": "stream",
     "text": [
      "23/04/16 10:45:46 WARN MemoryManager: Total allocation exceeds 95.00% (1,020,054,720 bytes) of heap memory\n",
      "Scaling row group sizes to 95.00% for 8 writers\n",
      "                                                                                \r"
     ]
    }
   ],
   "source": [
    "df_rdd_final.write.parquet('data/rdd/report/revenue/ex1')"
   ]
  },
  {
   "attachments": {},
   "cell_type": "markdown",
   "metadata": {},
   "source": [
    "### mapPartitions"
   ]
  },
  {
   "cell_type": "code",
   "execution_count": 3,
   "metadata": {},
   "outputs": [],
   "source": [
    "df_green = spark.read.parquet('data/pq/green/*/*')"
   ]
  },
  {
   "cell_type": "code",
   "execution_count": 4,
   "metadata": {},
   "outputs": [
    {
     "data": {
      "text/plain": [
       "['VendorID',\n",
       " 'lpep_pickup_datetime',\n",
       " 'lpep_dropoff_datetime',\n",
       " 'store_and_fwd_flag',\n",
       " 'RatecodeID',\n",
       " 'PULocationID',\n",
       " 'DOLocationID',\n",
       " 'passenger_count',\n",
       " 'trip_distance',\n",
       " 'fare_amount',\n",
       " 'extra',\n",
       " 'mta_tax',\n",
       " 'tip_amount',\n",
       " 'tolls_amount',\n",
       " 'ehail_fee',\n",
       " 'improvement_surcharge',\n",
       " 'total_amount',\n",
       " 'payment_type',\n",
       " 'trip_type',\n",
       " 'congestion_surcharge']"
      ]
     },
     "execution_count": 4,
     "metadata": {},
     "output_type": "execute_result"
    }
   ],
   "source": [
    "df_green.columns"
   ]
  },
  {
   "cell_type": "code",
   "execution_count": 5,
   "metadata": {},
   "outputs": [],
   "source": [
    "columns = ['VendorID','lpep_pickup_datetime','PULocationID','DOLocationID','trip_distance']\n",
    "duration_rdd = df_green.select(columns).rdd"
   ]
  },
  {
   "cell_type": "code",
   "execution_count": 7,
   "metadata": {},
   "outputs": [
    {
     "data": {
      "text/plain": [
       "[Row(VendorID=2, lpep_pickup_datetime=datetime.datetime(2020, 1, 27, 23, 23, 13), PULocationID=260, DOLocationID=223, trip_distance=2.98),\n",
       " Row(VendorID=None, lpep_pickup_datetime=datetime.datetime(2020, 1, 30, 20, 30), PULocationID=238, DOLocationID=47, trip_distance=7.65),\n",
       " Row(VendorID=None, lpep_pickup_datetime=datetime.datetime(2020, 1, 22, 18, 13), PULocationID=82, DOLocationID=95, trip_distance=1.83),\n",
       " Row(VendorID=2, lpep_pickup_datetime=datetime.datetime(2020, 1, 4, 18, 12, 24), PULocationID=42, DOLocationID=244, trip_distance=1.65),\n",
       " Row(VendorID=2, lpep_pickup_datetime=datetime.datetime(2020, 1, 27, 11, 53), PULocationID=82, DOLocationID=197, trip_distance=6.38)]"
      ]
     },
     "execution_count": 7,
     "metadata": {},
     "output_type": "execute_result"
    }
   ],
   "source": [
    "duration_rdd.take(5)"
   ]
  },
  {
   "cell_type": "code",
   "execution_count": 19,
   "metadata": {},
   "outputs": [],
   "source": [
    "def apply_model_to_each_partition(partition):\n",
    "    cnt = 0\n",
    "    for i in partition:\n",
    "        cnt+=1\n",
    "    return [cnt]"
   ]
  },
  {
   "cell_type": "code",
   "execution_count": 20,
   "metadata": {},
   "outputs": [
    {
     "name": "stderr",
     "output_type": "stream",
     "text": [
      "                                                                                \r"
     ]
    },
    {
     "data": {
      "text/plain": [
       "[902254, 371456, 281352, 275214, 275248, 267149, 225041, 125258]"
      ]
     },
     "execution_count": 20,
     "metadata": {},
     "output_type": "execute_result"
    }
   ],
   "source": [
    "duration_rdd.mapPartitions(apply_model_to_each_partition).collect()"
   ]
  },
  {
   "cell_type": "code",
   "execution_count": 21,
   "metadata": {},
   "outputs": [
    {
     "name": "stderr",
     "output_type": "stream",
     "text": [
      "                                                                                \r"
     ]
    },
    {
     "data": {
      "text/plain": [
       "2722972"
      ]
     },
     "execution_count": 21,
     "metadata": {},
     "output_type": "execute_result"
    }
   ],
   "source": [
    "sum(duration_rdd.mapPartitions(apply_model_to_each_partition).collect())"
   ]
  },
  {
   "cell_type": "code",
   "execution_count": 23,
   "metadata": {},
   "outputs": [
    {
     "name": "stderr",
     "output_type": "stream",
     "text": [
      "                                                                                \r"
     ]
    },
    {
     "data": {
      "text/plain": [
       "2722972"
      ]
     },
     "execution_count": 23,
     "metadata": {},
     "output_type": "execute_result"
    }
   ],
   "source": [
    "df_green.count()"
   ]
  },
  {
   "attachments": {},
   "cell_type": "markdown",
   "metadata": {},
   "source": [
    "#### trying to parition into equals, just for learning"
   ]
  },
  {
   "cell_type": "code",
   "execution_count": 17,
   "metadata": {},
   "outputs": [
    {
     "name": "stderr",
     "output_type": "stream",
     "text": [
      "                                                                                \r"
     ]
    }
   ],
   "source": [
    "duration_rdd_equals = duration_rdd.zipWithIndex().map(lambda x: (x[1],x[0])).partitionBy(8,lambda p:p).values()"
   ]
  },
  {
   "cell_type": "code",
   "execution_count": 32,
   "metadata": {},
   "outputs": [
    {
     "name": "stderr",
     "output_type": "stream",
     "text": [
      "                                                                                \r"
     ]
    },
    {
     "data": {
      "text/plain": [
       "[340372, 340372, 340372, 340372, 340371, 340371, 340371, 340371]"
      ]
     },
     "execution_count": 32,
     "metadata": {},
     "output_type": "execute_result"
    }
   ],
   "source": [
    "duration_rdd_equals.mapPartitions(apply_model_to_each_partition).collect()"
   ]
  },
  {
   "cell_type": "code",
   "execution_count": 35,
   "metadata": {},
   "outputs": [],
   "source": [
    "def apply_model_to_each_partition(partition):\n",
    "    df = pd.DataFrame(partition,columns=columns)\n",
    "    cnt = len(df)\n",
    "    return [cnt]"
   ]
  },
  {
   "cell_type": "code",
   "execution_count": 36,
   "metadata": {},
   "outputs": [
    {
     "name": "stderr",
     "output_type": "stream",
     "text": [
      "                                                                                \r"
     ]
    },
    {
     "data": {
      "text/plain": [
       "[340372, 340372, 340372, 340372, 340371, 340371, 340371, 340371]"
      ]
     },
     "execution_count": 36,
     "metadata": {},
     "output_type": "execute_result"
    }
   ],
   "source": [
    "duration_rdd_equals.mapPartitions(apply_model_to_each_partition).collect()"
   ]
  },
  {
   "attachments": {},
   "cell_type": "markdown",
   "metadata": {},
   "source": [
    "#### predicting model"
   ]
  },
  {
   "cell_type": "code",
   "execution_count": 18,
   "metadata": {},
   "outputs": [],
   "source": [
    "def model_predict(df):\n",
    "    y_pred = df.trip_distance * 5\n",
    "    return y_pred"
   ]
  },
  {
   "cell_type": "code",
   "execution_count": 19,
   "metadata": {},
   "outputs": [],
   "source": [
    "def apply_model_to_each_partition(partition):\n",
    "    df = pd.DataFrame(partition,columns=columns)\n",
    "    df['duration_pred'] = model_predict(df)\n",
    "    for row in df.itertuples():\n",
    "        yield row"
   ]
  },
  {
   "cell_type": "code",
   "execution_count": 20,
   "metadata": {},
   "outputs": [],
   "source": [
    "predicted_rdd = duration_rdd_equals.mapPartitions(apply_model_to_each_partition)"
   ]
  },
  {
   "cell_type": "code",
   "execution_count": 157,
   "metadata": {},
   "outputs": [
    {
     "name": "stderr",
     "output_type": "stream",
     "text": [
      "                                                                                \r"
     ]
    },
    {
     "data": {
      "text/plain": [
       "[Pandas(Index=0, VendorID=2.0, lpep_pickup_datetime=Timestamp('2020-01-27 23:23:13'), PULocationID=260, DOLocationID=223, trip_distance=2.98, duration_pred=14.9),\n",
       " Pandas(Index=1, VendorID=1.0, lpep_pickup_datetime=Timestamp('2020-01-18 21:41:43'), PULocationID=129, DOLocationID=129, trip_distance=0.4, duration_pred=2.0),\n",
       " Pandas(Index=2, VendorID=2.0, lpep_pickup_datetime=Timestamp('2020-01-04 18:02:05'), PULocationID=55, DOLocationID=26, trip_distance=4.99, duration_pred=24.950000000000003),\n",
       " Pandas(Index=3, VendorID=nan, lpep_pickup_datetime=Timestamp('2020-01-19 14:13:00'), PULocationID=213, DOLocationID=74, trip_distance=5.26, duration_pred=26.299999999999997),\n",
       " Pandas(Index=4, VendorID=nan, lpep_pickup_datetime=Timestamp('2020-01-13 15:58:00'), PULocationID=121, DOLocationID=258, trip_distance=5.52, duration_pred=27.599999999999998)]"
      ]
     },
     "execution_count": 157,
     "metadata": {},
     "output_type": "execute_result"
    }
   ],
   "source": [
    "predicted_rdd.take(5)"
   ]
  },
  {
   "cell_type": "code",
   "execution_count": 158,
   "metadata": {},
   "outputs": [],
   "source": [
    "schema=types.StructType([\n",
    "    types.StructField('Index', types.LongType(), True), \n",
    "    types.StructField('VendorID', types.DoubleType(), True), \n",
    "    types.StructField('lpep_pickup_datetime', types.TimestampType(), True), \n",
    "    types.StructField('PULocationID', types.IntegerType(), True),\n",
    "    types.StructField('DOLocationID', types.IntegerType(), True),\n",
    "    types.StructField('trip_distance', types.DoubleType(), True), \n",
    "    types.StructField('duration_pred', types.DoubleType(), True)])"
   ]
  },
  {
   "cell_type": "code",
   "execution_count": 182,
   "metadata": {},
   "outputs": [],
   "source": [
    "from datetime import datetime\n",
    "def change_data_type(row):\n",
    "    #return (row[0],row[1],datetime.strptime(str(row[2]), \"%Y-%m-%d %H:%M:%S\"),row[3],row[4],row[5],row[6])\n",
    "    return (row[0],row[1],row[2].to_pydatetime(),row[3],row[4],row[5],row[6])"
   ]
  },
  {
   "cell_type": "code",
   "execution_count": 183,
   "metadata": {},
   "outputs": [],
   "source": [
    "predicted_rdd_ = predicted_rdd.map(change_data_type)"
   ]
  },
  {
   "cell_type": "code",
   "execution_count": 184,
   "metadata": {},
   "outputs": [
    {
     "name": "stderr",
     "output_type": "stream",
     "text": [
      "                                                                                \r"
     ]
    },
    {
     "data": {
      "text/plain": [
       "[(0, 2.0, datetime.datetime(2020, 1, 27, 23, 23, 13), 260, 223, 2.98, 14.9),\n",
       " (1, 1.0, datetime.datetime(2020, 1, 18, 21, 41, 43), 129, 129, 0.4, 2.0),\n",
       " (2,\n",
       "  2.0,\n",
       "  datetime.datetime(2020, 1, 4, 18, 2, 5),\n",
       "  55,\n",
       "  26,\n",
       "  4.99,\n",
       "  24.950000000000003),\n",
       " (3,\n",
       "  nan,\n",
       "  datetime.datetime(2020, 1, 19, 14, 13),\n",
       "  213,\n",
       "  74,\n",
       "  5.26,\n",
       "  26.299999999999997),\n",
       " (4,\n",
       "  nan,\n",
       "  datetime.datetime(2020, 1, 13, 15, 58),\n",
       "  121,\n",
       "  258,\n",
       "  5.52,\n",
       "  27.599999999999998)]"
      ]
     },
     "execution_count": 184,
     "metadata": {},
     "output_type": "execute_result"
    }
   ],
   "source": [
    "predicted_rdd_.take(5)"
   ]
  },
  {
   "cell_type": "code",
   "execution_count": 190,
   "metadata": {},
   "outputs": [],
   "source": [
    "final_df = predicted_rdd_.toDF(schema).drop('Index')"
   ]
  },
  {
   "cell_type": "code",
   "execution_count": 191,
   "metadata": {},
   "outputs": [
    {
     "name": "stderr",
     "output_type": "stream",
     "text": [
      "[Stage 166:>                                                        (0 + 1) / 1]\r"
     ]
    },
    {
     "name": "stdout",
     "output_type": "stream",
     "text": [
      "+--------+--------------------+------------+------------+-------------+------------------+\n",
      "|VendorID|lpep_pickup_datetime|PULocationID|DOLocationID|trip_distance|     duration_pred|\n",
      "+--------+--------------------+------------+------------+-------------+------------------+\n",
      "|     2.0| 2020-01-27 23:23:13|         260|         223|         2.98|              14.9|\n",
      "|     1.0| 2020-01-18 21:41:43|         129|         129|          0.4|               2.0|\n",
      "|     2.0| 2020-01-04 18:02:05|          55|          26|         4.99|24.950000000000003|\n",
      "|     NaN| 2020-01-19 14:13:00|         213|          74|         5.26|26.299999999999997|\n",
      "|     NaN| 2020-01-13 15:58:00|         121|         258|         5.52|27.599999999999998|\n",
      "|     1.0| 2020-01-22 16:42:40|          49|         189|          0.0|               0.0|\n",
      "|     NaN| 2020-01-28 18:39:00|          74|          74|         23.1|             115.5|\n",
      "|     2.0| 2020-01-15 08:49:59|          41|          74|         0.86|               4.3|\n",
      "|     NaN| 2020-01-08 15:41:00|          33|          37|         5.32|              26.6|\n",
      "|     2.0| 2020-01-18 02:13:39|         181|          25|         1.48|               7.4|\n",
      "|     NaN| 2020-01-28 12:02:00|          74|         141|          4.4|              22.0|\n",
      "|     2.0| 2020-01-03 04:52:03|         263|         141|         1.64|               8.2|\n",
      "|     2.0| 2020-01-31 16:39:57|          75|         116|         3.59|             17.95|\n",
      "|     2.0| 2020-01-08 13:10:14|         134|         216|         4.48|22.400000000000002|\n",
      "|     1.0| 2020-01-02 12:23:13|          20|         237|         10.4|              52.0|\n",
      "|     2.0| 2020-01-18 05:02:03|          80|          80|         0.49|              2.45|\n",
      "|     2.0| 2020-01-21 13:27:02|         244|         243|         0.94| 4.699999999999999|\n",
      "|     2.0| 2020-01-16 17:19:15|          74|          75|         1.42|               7.1|\n",
      "|     NaN| 2020-01-10 21:05:00|          63|         218|         6.14|              30.7|\n",
      "|     2.0| 2020-01-27 16:48:09|          42|          74|         1.11| 5.550000000000001|\n",
      "+--------+--------------------+------------+------------+-------------+------------------+\n",
      "only showing top 20 rows\n",
      "\n"
     ]
    },
    {
     "name": "stderr",
     "output_type": "stream",
     "text": [
      "                                                                                \r"
     ]
    }
   ],
   "source": [
    "final_df.show()"
   ]
  },
  {
   "cell_type": "code",
   "execution_count": 192,
   "metadata": {},
   "outputs": [
    {
     "name": "stdout",
     "output_type": "stream",
     "text": [
      "root\n",
      " |-- VendorID: double (nullable = true)\n",
      " |-- lpep_pickup_datetime: timestamp (nullable = true)\n",
      " |-- PULocationID: integer (nullable = true)\n",
      " |-- DOLocationID: integer (nullable = true)\n",
      " |-- trip_distance: double (nullable = true)\n",
      " |-- duration_pred: double (nullable = true)\n",
      "\n"
     ]
    }
   ],
   "source": [
    "final_df.printSchema()"
   ]
  },
  {
   "cell_type": "code",
   "execution_count": null,
   "metadata": {},
   "outputs": [],
   "source": []
  }
 ],
 "metadata": {
  "kernelspec": {
   "display_name": ".venv",
   "language": "python",
   "name": "python3"
  },
  "language_info": {
   "codemirror_mode": {
    "name": "ipython",
    "version": 3
   },
   "file_extension": ".py",
   "mimetype": "text/x-python",
   "name": "python",
   "nbconvert_exporter": "python",
   "pygments_lexer": "ipython3",
   "version": "3.8.10"
  },
  "orig_nbformat": 4
 },
 "nbformat": 4,
 "nbformat_minor": 2
}
