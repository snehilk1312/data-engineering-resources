{
 "cells": [
  {
   "cell_type": "code",
   "execution_count": 1,
   "metadata": {},
   "outputs": [],
   "source": [
    "import pyspark\n",
    "from pyspark.sql import SparkSession"
   ]
  },
  {
   "cell_type": "code",
   "execution_count": 2,
   "metadata": {},
   "outputs": [
    {
     "name": "stderr",
     "output_type": "stream",
     "text": [
      "your 131072x1 screen size is bogus. expect trouble\n",
      "23/04/16 08:10:07 WARN Utils: Your hostname, MSI resolves to a loopback address: 127.0.1.1; using 172.24.150.144 instead (on interface eth0)\n",
      "23/04/16 08:10:07 WARN Utils: Set SPARK_LOCAL_IP if you need to bind to another address\n",
      "Setting default log level to \"WARN\".\n",
      "To adjust logging level use sc.setLogLevel(newLevel). For SparkR, use setLogLevel(newLevel).\n",
      "23/04/16 08:10:09 WARN NativeCodeLoader: Unable to load native-hadoop library for your platform... using builtin-java classes where applicable\n",
      "23/04/16 08:10:10 WARN Utils: Service 'SparkUI' could not bind on port 4040. Attempting port 4041.\n"
     ]
    }
   ],
   "source": [
    "spark = SparkSession.builder.master(\"local[*]\").appName('test').getOrCreate()"
   ]
  },
  {
   "cell_type": "code",
   "execution_count": 3,
   "metadata": {},
   "outputs": [
    {
     "name": "stderr",
     "output_type": "stream",
     "text": [
      "                                                                                \r"
     ]
    }
   ],
   "source": [
    "df_yellow = spark.read.parquet('data/report/revenue/yellow/')\n",
    "df_green = spark.read.parquet('data/report/revenue/green/')"
   ]
  },
  {
   "cell_type": "code",
   "execution_count": 4,
   "metadata": {},
   "outputs": [],
   "source": [
    "df_zone = spark.read.parquet('zones/')"
   ]
  },
  {
   "cell_type": "code",
   "execution_count": 5,
   "metadata": {},
   "outputs": [
    {
     "name": "stdout",
     "output_type": "stream",
     "text": [
      "+----------+-------------+--------------------+------------+\n",
      "|LocationID|      Borough|                Zone|service_zone|\n",
      "+----------+-------------+--------------------+------------+\n",
      "|         1|          EWR|      Newark Airport|         EWR|\n",
      "|         2|       Queens|         Jamaica Bay|   Boro Zone|\n",
      "|         3|        Bronx|Allerton/Pelham G...|   Boro Zone|\n",
      "|         4|    Manhattan|       Alphabet City| Yellow Zone|\n",
      "|         5|Staten Island|       Arden Heights|   Boro Zone|\n",
      "|         6|Staten Island|Arrochar/Fort Wad...|   Boro Zone|\n",
      "|         7|       Queens|             Astoria|   Boro Zone|\n",
      "|         8|       Queens|        Astoria Park|   Boro Zone|\n",
      "|         9|       Queens|          Auburndale|   Boro Zone|\n",
      "|        10|       Queens|        Baisley Park|   Boro Zone|\n",
      "|        11|     Brooklyn|          Bath Beach|   Boro Zone|\n",
      "|        12|    Manhattan|        Battery Park| Yellow Zone|\n",
      "|        13|    Manhattan|   Battery Park City| Yellow Zone|\n",
      "|        14|     Brooklyn|           Bay Ridge|   Boro Zone|\n",
      "|        15|       Queens|Bay Terrace/Fort ...|   Boro Zone|\n",
      "|        16|       Queens|             Bayside|   Boro Zone|\n",
      "|        17|     Brooklyn|             Bedford|   Boro Zone|\n",
      "|        18|        Bronx|        Bedford Park|   Boro Zone|\n",
      "|        19|       Queens|           Bellerose|   Boro Zone|\n",
      "|        20|        Bronx|             Belmont|   Boro Zone|\n",
      "+----------+-------------+--------------------+------------+\n",
      "only showing top 20 rows\n",
      "\n"
     ]
    },
    {
     "name": "stderr",
     "output_type": "stream",
     "text": [
      "                                                                                \r"
     ]
    }
   ],
   "source": [
    "df_zone.show()"
   ]
  },
  {
   "attachments": {},
   "cell_type": "markdown",
   "metadata": {},
   "source": [
    "#### join 2 dataframe - both similar sizes"
   ]
  },
  {
   "cell_type": "code",
   "execution_count": 6,
   "metadata": {},
   "outputs": [
    {
     "name": "stdout",
     "output_type": "stream",
     "text": [
      "+-------------------+------------+------------------+---------+\n",
      "|               hour|PULocationID|            amount|num_trips|\n",
      "+-------------------+------------+------------------+---------+\n",
      "|2020-11-10 14:00:00|         163|1802.9599999999987|      117|\n",
      "|2020-11-10 14:00:00|         164|           1329.32|       93|\n",
      "|2020-11-10 14:00:00|         166| 427.1400000000001|       26|\n",
      "|2020-11-10 14:00:00|         167|               3.3|        1|\n",
      "|2020-11-10 14:00:00|         168|30.900000000000002|        3|\n",
      "+-------------------+------------+------------------+---------+\n",
      "only showing top 5 rows\n",
      "\n"
     ]
    }
   ],
   "source": [
    "df_yellow.show(5)"
   ]
  },
  {
   "cell_type": "code",
   "execution_count": 7,
   "metadata": {},
   "outputs": [
    {
     "name": "stdout",
     "output_type": "stream",
     "text": [
      "+-------------------+------------+------------------+---------+\n",
      "|               hour|PULocationID|            amount|num_trips|\n",
      "+-------------------+------------+------------------+---------+\n",
      "|2020-07-01 20:00:00|          41|             40.11|        3|\n",
      "|2020-07-01 20:00:00|          42|29.400000000000002|        3|\n",
      "|2020-07-01 20:00:00|          43|60.519999999999996|        4|\n",
      "|2020-07-01 20:00:00|          49|              15.0|        1|\n",
      "|2020-07-01 20:00:00|          51|              32.5|        1|\n",
      "+-------------------+------------+------------------+---------+\n",
      "only showing top 5 rows\n",
      "\n"
     ]
    }
   ],
   "source": [
    "df_green.show(5)"
   ]
  },
  {
   "cell_type": "code",
   "execution_count": 8,
   "metadata": {},
   "outputs": [],
   "source": [
    "df_green = df_green.withColumnRenamed('amount', 'green_amount')\n",
    "df_green = df_green.withColumnRenamed('num_trips', 'green_num_trips')\n",
    "df_yellow = df_yellow.withColumnRenamed('num_trips', 'yellow_num_trips')\n",
    "df_yellow = df_yellow.withColumnRenamed('amount', 'yellow_amount')"
   ]
  },
  {
   "cell_type": "code",
   "execution_count": 13,
   "metadata": {},
   "outputs": [],
   "source": [
    "df_joined = df_green.join(df_yellow,on=['hour','PULocationID'],how='outer')"
   ]
  },
  {
   "cell_type": "code",
   "execution_count": 15,
   "metadata": {},
   "outputs": [
    {
     "name": "stderr",
     "output_type": "stream",
     "text": [
      "[Stage 18:=====================>                                    (3 + 5) / 8]\r"
     ]
    },
    {
     "name": "stdout",
     "output_type": "stream",
     "text": [
      "+-------------------+------------+------------------+---------------+------------------+----------------+\n",
      "|               hour|PULocationID|      green_amount|green_num_trips|     yellow_amount|yellow_num_trips|\n",
      "+-------------------+------------+------------------+---------------+------------------+----------------+\n",
      "|2020-01-01 00:00:00|          14|              null|           null|               8.8|               1|\n",
      "|2020-01-01 00:00:00|          22|              15.8|              1|              null|            null|\n",
      "|2020-01-01 00:00:00|          45|              null|           null| 732.4800000000001|              42|\n",
      "|2020-01-01 00:00:00|          51|              17.8|              2|              31.0|               1|\n",
      "|2020-01-01 00:00:00|          62|             15.95|              1|             61.43|               1|\n",
      "|2020-01-01 00:00:00|          72|             67.53|              2|              null|            null|\n",
      "|2020-01-01 00:00:00|          89|              11.3|              1|             48.16|               2|\n",
      "|2020-01-01 00:00:00|         123|             34.17|              2|              null|            null|\n",
      "|2020-01-01 00:00:00|         126|              null|           null|             170.6|               2|\n",
      "|2020-01-01 00:00:00|         136|            111.68|              2|             168.0|               4|\n",
      "|2020-01-01 00:00:00|         142|              null|           null| 9252.300000000017|             488|\n",
      "|2020-01-01 00:00:00|         159|              13.8|              1|              58.8|               2|\n",
      "|2020-01-01 00:00:00|         173|            109.58|              5|              20.1|               2|\n",
      "|2020-01-01 00:00:00|         190|             61.97|              4|              54.1|               3|\n",
      "|2020-01-01 00:00:00|         193|               8.3|              1| 95.80999999999999|               6|\n",
      "|2020-01-01 00:00:00|         194|              null|           null|            148.71|               2|\n",
      "|2020-01-01 00:00:00|         198|            195.11|              5|            138.89|               4|\n",
      "|2020-01-01 00:00:00|         201|             77.32|              2|              null|            null|\n",
      "|2020-01-01 00:00:00|         208|             80.24|              3|              null|            null|\n",
      "|2020-01-01 00:00:00|         231|              null|           null|           4822.66|             245|\n",
      "|2020-01-01 00:00:00|         237|              null|           null| 8141.930000000017|             540|\n",
      "|2020-01-01 00:00:00|         243|            205.32|             10|            217.53|               9|\n",
      "|2020-01-01 00:00:00|         248|              null|           null|              25.5|               1|\n",
      "|2020-01-01 00:00:00|         261|              null|           null|1013.9400000000004|              51|\n",
      "|2020-01-01 01:00:00|          12|              null|           null|             80.91|               4|\n",
      "|2020-01-01 01:00:00|          22|              null|           null|              50.0|               1|\n",
      "|2020-01-01 01:00:00|          35|            239.37|              8|              99.4|               2|\n",
      "|2020-01-01 01:00:00|          40|177.16000000000003|              6|313.53999999999996|              15|\n",
      "|2020-01-01 01:00:00|          47|            130.46|              3|47.400000000000006|               3|\n",
      "|2020-01-01 01:00:00|          54|              null|           null|             27.96|               1|\n",
      "|2020-01-01 01:00:00|          71|              null|           null|             48.02|               3|\n",
      "|2020-01-01 01:00:00|          72|            202.05|              4|              null|            null|\n",
      "|2020-01-01 01:00:00|          74| 606.7400000000001|             43|1476.3199999999993|             102|\n",
      "|2020-01-01 01:00:00|          76|              28.8|              1|190.90999999999997|               5|\n",
      "|2020-01-01 01:00:00|          80|            215.95|             10| 994.6100000000001|              46|\n",
      "|2020-01-01 01:00:00|         107|              null|           null| 9994.480000000027|             583|\n",
      "|2020-01-01 01:00:00|         115|              null|           null|              54.6|               1|\n",
      "|2020-01-01 01:00:00|         120|              null|           null|              11.8|               1|\n",
      "|2020-01-01 01:00:00|         136|35.230000000000004|              2|              null|            null|\n",
      "|2020-01-01 01:00:00|         137|              null|           null| 5125.960000000003|             291|\n",
      "|2020-01-01 01:00:00|         152|             42.14|              4| 543.7400000000001|              26|\n",
      "|2020-01-01 01:00:00|         160|              null|           null|            123.53|               3|\n",
      "|2020-01-01 01:00:00|         161|              null|           null|  9189.14000000002|             483|\n",
      "|2020-01-01 01:00:00|         163|              null|           null| 5483.990000000002|             286|\n",
      "|2020-01-01 01:00:00|         165|              null|           null|              50.0|               1|\n",
      "|2020-01-01 01:00:00|         166|259.84000000000003|             14|1333.5099999999998|              84|\n",
      "|2020-01-01 01:00:00|         170|              null|           null|10157.140000000029|             585|\n",
      "|2020-01-01 01:00:00|         185|              null|           null|              43.0|               1|\n",
      "|2020-01-01 01:00:00|         224|              null|           null|1416.7699999999995|              67|\n",
      "|2020-01-01 01:00:00|         229|              null|           null| 7139.410000000009|             415|\n",
      "+-------------------+------------+------------------+---------------+------------------+----------------+\n",
      "only showing top 50 rows\n",
      "\n"
     ]
    },
    {
     "name": "stderr",
     "output_type": "stream",
     "text": [
      "                                                                                \r"
     ]
    }
   ],
   "source": [
    "df_joined.show(50)"
   ]
  },
  {
   "cell_type": "code",
   "execution_count": 18,
   "metadata": {},
   "outputs": [
    {
     "name": "stderr",
     "output_type": "stream",
     "text": [
      "23/04/16 08:22:09 WARN MemoryManager: Total allocation exceeds 95.00% (1,020,054,720 bytes) of heap memory\n",
      "Scaling row group sizes to 95.00% for 8 writers\n",
      "                                                                                \r"
     ]
    }
   ],
   "source": [
    "df_joined.write.parquet('data/report/revenue/total')"
   ]
  },
  {
   "attachments": {},
   "cell_type": "markdown",
   "metadata": {},
   "source": [
    "#### join 2 dataframe - one small one big"
   ]
  },
  {
   "cell_type": "code",
   "execution_count": 20,
   "metadata": {},
   "outputs": [],
   "source": [
    "df_join = spark.read.parquet('data/report/revenue/total/')"
   ]
  },
  {
   "cell_type": "code",
   "execution_count": 21,
   "metadata": {},
   "outputs": [
    {
     "name": "stderr",
     "output_type": "stream",
     "text": [
      "                                                                                \r"
     ]
    },
    {
     "name": "stdout",
     "output_type": "stream",
     "text": [
      "+-------------------+------------+------------------+---------------+------------------+----------------+----------+---------+--------------------+------------+\n",
      "|               hour|PULocationID|      green_amount|green_num_trips|     yellow_amount|yellow_num_trips|LocationID|  Borough|                Zone|service_zone|\n",
      "+-------------------+------------+------------------+---------------+------------------+----------------+----------+---------+--------------------+------------+\n",
      "|2020-01-01 00:00:00|          24|              87.6|              3| 754.9500000000003|              45|        24|Manhattan|        Bloomingdale| Yellow Zone|\n",
      "|2020-01-01 00:00:00|          40|168.98000000000002|              8|             89.97|               5|        40| Brooklyn|     Carroll Gardens|   Boro Zone|\n",
      "|2020-01-01 00:00:00|          47|              13.3|              1|               8.3|               1|        47|    Bronx|  Claremont/Bathgate|   Boro Zone|\n",
      "|2020-01-01 00:00:00|          49|266.76000000000005|             14|185.64999999999998|              10|        49| Brooklyn|        Clinton Hill|   Boro Zone|\n",
      "|2020-01-01 00:00:00|          50|              null|           null| 4177.479999999998|             183|        50|Manhattan|        Clinton West| Yellow Zone|\n",
      "|2020-01-01 00:00:00|          68|              null|           null| 7825.070000000011|             396|        68|Manhattan|        East Chelsea| Yellow Zone|\n",
      "|2020-01-01 00:00:00|          87|              null|           null| 2456.669999999999|             112|        87|Manhattan|Financial Distric...| Yellow Zone|\n",
      "|2020-01-01 00:00:00|          92|             80.72|              3|              75.3|               1|        92|   Queens|            Flushing|   Boro Zone|\n",
      "|2020-01-01 00:00:00|          93|              null|           null|210.28000000000003|               3|        93|   Queens|Flushing Meadows-...|   Boro Zone|\n",
      "|2020-01-01 00:00:00|         113|              null|           null| 3984.319999999998|             220|       113|Manhattan|Greenwich Village...| Yellow Zone|\n",
      "|2020-01-01 00:00:00|         132|              null|           null| 6786.390000000005|             139|       132|   Queens|         JFK Airport|    Airports|\n",
      "|2020-01-01 00:00:00|         135|              null|           null|              18.3|               1|       135|   Queens|   Kew Gardens Hills|   Boro Zone|\n",
      "|2020-01-01 00:00:00|         138|              null|           null|2745.8799999999997|              72|       138|   Queens|   LaGuardia Airport|    Airports|\n",
      "|2020-01-01 00:00:00|         141|              null|           null| 4306.829999999995|             283|       141|Manhattan|     Lenox Hill West| Yellow Zone|\n",
      "|2020-01-01 00:00:00|         153|              25.0|              1|               7.8|               1|       153|Manhattan|         Marble Hill|   Boro Zone|\n",
      "|2020-01-01 00:00:00|         160|              11.3|              1|              null|            null|       160|   Queens|      Middle Village|   Boro Zone|\n",
      "|2020-01-01 00:00:00|         163|              null|           null|2652.9799999999977|             152|       163|Manhattan|       Midtown North| Yellow Zone|\n",
      "|2020-01-01 00:00:00|         166| 504.0100000000001|             33| 1597.309999999999|             100|       166|Manhattan| Morningside Heights|   Boro Zone|\n",
      "|2020-01-01 00:00:00|         170|              null|           null| 8266.010000000017|             463|       170|Manhattan|         Murray Hill| Yellow Zone|\n",
      "|2020-01-01 00:00:00|         185|              null|           null|             69.51|               2|       185|    Bronx|      Pelham Parkway|   Boro Zone|\n",
      "+-------------------+------------+------------------+---------------+------------------+----------------+----------+---------+--------------------+------------+\n",
      "only showing top 20 rows\n",
      "\n"
     ]
    }
   ],
   "source": [
    "df_join.join(df_zone, df_join.PULocationID==df_zone.LocationID).show()"
   ]
  },
  {
   "cell_type": "code",
   "execution_count": null,
   "metadata": {},
   "outputs": [],
   "source": []
  }
 ],
 "metadata": {
  "kernelspec": {
   "display_name": ".venv",
   "language": "python",
   "name": "python3"
  },
  "language_info": {
   "codemirror_mode": {
    "name": "ipython",
    "version": 3
   },
   "file_extension": ".py",
   "mimetype": "text/x-python",
   "name": "python",
   "nbconvert_exporter": "python",
   "pygments_lexer": "ipython3",
   "version": "3.8.10"
  },
  "orig_nbformat": 4
 },
 "nbformat": 4,
 "nbformat_minor": 2
}
