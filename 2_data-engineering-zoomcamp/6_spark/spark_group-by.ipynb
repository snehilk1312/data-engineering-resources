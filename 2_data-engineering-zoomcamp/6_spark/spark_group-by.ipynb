{
 "cells": [
  {
   "cell_type": "code",
   "execution_count": 1,
   "metadata": {},
   "outputs": [],
   "source": [
    "import pyspark\n",
    "from pyspark.sql import SparkSession"
   ]
  },
  {
   "cell_type": "code",
   "execution_count": 2,
   "metadata": {},
   "outputs": [
    {
     "name": "stderr",
     "output_type": "stream",
     "text": [
      "your 131072x1 screen size is bogus. expect trouble\n",
      "23/04/16 07:08:04 WARN Utils: Your hostname, MSI resolves to a loopback address: 127.0.1.1; using 172.24.150.144 instead (on interface eth0)\n",
      "23/04/16 07:08:04 WARN Utils: Set SPARK_LOCAL_IP if you need to bind to another address\n",
      "Setting default log level to \"WARN\".\n",
      "To adjust logging level use sc.setLogLevel(newLevel). For SparkR, use setLogLevel(newLevel).\n",
      "23/04/16 07:08:06 WARN NativeCodeLoader: Unable to load native-hadoop library for your platform... using builtin-java classes where applicable\n",
      "23/04/16 07:08:06 WARN Utils: Service 'SparkUI' could not bind on port 4040. Attempting port 4041.\n"
     ]
    }
   ],
   "source": [
    "spark = SparkSession.builder.master(\"local[*]\").appName('test').getOrCreate()"
   ]
  },
  {
   "cell_type": "code",
   "execution_count": 3,
   "metadata": {},
   "outputs": [],
   "source": [
    "df_green = spark.read.parquet('data/pq/green/*/*')"
   ]
  },
  {
   "cell_type": "code",
   "execution_count": 6,
   "metadata": {},
   "outputs": [
    {
     "name": "stdout",
     "output_type": "stream",
     "text": [
      "+--------+--------------------+---------------------+------------------+----------+------------+------------+---------------+-------------+-----------+-----+-------+----------+------------+---------+---------------------+------------+------------+---------+--------------------+\n",
      "|VendorID|lpep_pickup_datetime|lpep_dropoff_datetime|store_and_fwd_flag|RatecodeID|PULocationID|DOLocationID|passenger_count|trip_distance|fare_amount|extra|mta_tax|tip_amount|tolls_amount|ehail_fee|improvement_surcharge|total_amount|payment_type|trip_type|congestion_surcharge|\n",
      "+--------+--------------------+---------------------+------------------+----------+------------+------------+---------------+-------------+-----------+-----+-------+----------+------------+---------+---------------------+------------+------------+---------+--------------------+\n",
      "|       2| 2020-01-27 23:23:13|  2020-01-27 23:33:22|                 N|         1|         260|         223|              1|         2.98|       11.5|  0.5|    0.5|       3.2|         0.0|     null|                  0.3|        16.0|           1|        1|                 0.0|\n",
      "|    null| 2020-01-30 20:30:00|  2020-01-30 20:51:00|              null|      null|         238|          47|           null|         7.65|      25.46| 2.75|    0.0|       0.0|         0.0|     null|                  0.3|       28.51|        null|     null|                null|\n",
      "|    null| 2020-01-22 18:13:00|  2020-01-22 18:32:00|              null|      null|          82|          95|           null|         1.83|      19.06| 2.75|    0.0|       0.0|         0.0|     null|                  0.3|       22.11|        null|     null|                null|\n",
      "|       2| 2020-01-04 18:12:24|  2020-01-04 18:21:13|                 N|         1|          42|         244|              1|         1.65|        8.0|  0.0|    0.5|       0.0|         0.0|     null|                  0.3|         8.8|           2|        1|                 0.0|\n",
      "|       2| 2020-01-27 11:53:00|  2020-01-27 12:19:32|                 N|         5|          82|         197|              1|         6.38|      18.22|  0.0|    0.5|       0.0|         0.0|     null|                  0.3|       19.02|           2|        2|                 0.0|\n",
      "|       2| 2020-01-29 15:35:00|  2020-01-29 16:32:00|                 N|         1|           7|         174|              1|         10.4|       40.5|  0.0|    0.5|       0.0|        6.12|     null|                  0.3|       47.42|           2|        1|                 0.0|\n",
      "|    null| 2020-01-02 11:32:00|  2020-01-02 11:47:00|              null|      null|          66|         217|           null|         2.95|       12.0|  0.0|    0.0|       0.0|         0.0|     null|                  0.3|        12.3|        null|     null|                null|\n",
      "|       1| 2020-01-04 09:40:17|  2020-01-04 09:44:12|                 N|         1|          42|          41|              1|          1.0|        5.5|  1.0|    0.5|       0.0|         0.0|     null|                  0.3|         7.3|           1|        1|                 0.0|\n",
      "|       1| 2020-01-18 21:41:43|  2020-01-18 21:44:29|                 N|         1|         129|         129|              1|          0.4|        4.0|  0.5|    0.5|       0.0|         0.0|     null|                  0.3|         5.3|           2|        1|                 0.0|\n",
      "|       2| 2020-01-11 18:43:11|  2020-01-11 18:52:58|                 N|         1|          41|          41|              1|         0.91|        7.5|  0.0|    0.5|       0.0|         0.0|     null|                  0.3|         8.3|           2|        1|                 0.0|\n",
      "+--------+--------------------+---------------------+------------------+----------+------------+------------+---------------+-------------+-----------+-----+-------+----------+------------+---------+---------------------+------------+------------+---------+--------------------+\n",
      "only showing top 10 rows\n",
      "\n"
     ]
    }
   ],
   "source": [
    "df_green.show(10)"
   ]
  },
  {
   "cell_type": "code",
   "execution_count": 5,
   "metadata": {},
   "outputs": [],
   "source": [
    "df_green.createOrReplaceTempView('green')"
   ]
  },
  {
   "cell_type": "code",
   "execution_count": 17,
   "metadata": {},
   "outputs": [],
   "source": [
    "df_green_revenue = spark.sql(\"\"\"\n",
    "\n",
    "    select \n",
    "    date_trunc('hour', lpep_pickup_datetime) as hour,\n",
    "    PULocationID,\n",
    "    sum(total_amount) as amount,\n",
    "    count(*) as num_trips\n",
    "    from green\n",
    "    where lpep_pickup_datetime>='2020'\n",
    "    group by 1,2\n",
    "    order by 1,2\n",
    "\n",
    "\"\"\")"
   ]
  },
  {
   "cell_type": "code",
   "execution_count": 18,
   "metadata": {},
   "outputs": [
    {
     "name": "stderr",
     "output_type": "stream",
     "text": [
      "[Stage 24:=====================>                                    (3 + 5) / 8]\r"
     ]
    },
    {
     "name": "stdout",
     "output_type": "stream",
     "text": [
      "+-------------------+------------+------------------+---------+\n",
      "|               hour|PULocationID|            amount|num_trips|\n",
      "+-------------------+------------+------------------+---------+\n",
      "|2020-01-01 00:00:00|           7| 769.7299999999994|       45|\n",
      "|2020-01-01 00:00:00|          17|            195.03|        9|\n",
      "|2020-01-01 00:00:00|          18|               7.8|        1|\n",
      "|2020-01-01 00:00:00|          22|              15.8|        1|\n",
      "|2020-01-01 00:00:00|          24|              87.6|        3|\n",
      "|2020-01-01 00:00:00|          25| 531.0000000000001|       26|\n",
      "|2020-01-01 00:00:00|          29|              61.3|        1|\n",
      "|2020-01-01 00:00:00|          32| 68.94999999999999|        2|\n",
      "|2020-01-01 00:00:00|          33|317.27000000000004|       11|\n",
      "|2020-01-01 00:00:00|          35|            129.96|        5|\n",
      "|2020-01-01 00:00:00|          36|295.34000000000003|       11|\n",
      "|2020-01-01 00:00:00|          37|            175.67|        6|\n",
      "|2020-01-01 00:00:00|          38| 98.78999999999999|        2|\n",
      "|2020-01-01 00:00:00|          40|168.98000000000002|        8|\n",
      "|2020-01-01 00:00:00|          41|1363.9599999999984|       84|\n",
      "|2020-01-01 00:00:00|          42| 799.7599999999996|       52|\n",
      "|2020-01-01 00:00:00|          43|            107.52|        6|\n",
      "|2020-01-01 00:00:00|          47|              13.3|        1|\n",
      "|2020-01-01 00:00:00|          49|266.76000000000005|       14|\n",
      "|2020-01-01 00:00:00|          51|              17.8|        2|\n",
      "+-------------------+------------+------------------+---------+\n",
      "only showing top 20 rows\n",
      "\n"
     ]
    },
    {
     "name": "stderr",
     "output_type": "stream",
     "text": [
      "                                                                                \r"
     ]
    }
   ],
   "source": [
    "df_green_revenue.show()"
   ]
  },
  {
   "cell_type": "code",
   "execution_count": 21,
   "metadata": {},
   "outputs": [],
   "source": [
    "df_yellow.createOrReplaceTempView('yellow')"
   ]
  },
  {
   "cell_type": "code",
   "execution_count": 19,
   "metadata": {},
   "outputs": [],
   "source": [
    "df_yellow = spark.read.parquet('data/pq/yellow/*/*')"
   ]
  },
  {
   "cell_type": "code",
   "execution_count": 22,
   "metadata": {},
   "outputs": [],
   "source": [
    "df_yellow_revenue = spark.sql(\"\"\"\n",
    "\n",
    "    select \n",
    "    date_trunc('hour', tpep_pickup_datetime) as hour,\n",
    "    PULocationID,\n",
    "    sum(total_amount) as amount,\n",
    "    count(*) as num_trips\n",
    "    from yellow\n",
    "    where tpep_pickup_datetime>='2020'\n",
    "    group by 1,2\n",
    "    order by 1,2\n",
    "\n",
    "\"\"\")"
   ]
  },
  {
   "cell_type": "code",
   "execution_count": 23,
   "metadata": {},
   "outputs": [
    {
     "name": "stderr",
     "output_type": "stream",
     "text": [
      "[Stage 31:===================================================>      (8 + 1) / 9]\r"
     ]
    },
    {
     "name": "stdout",
     "output_type": "stream",
     "text": [
      "+-------------------+------------+------------------+---------+\n",
      "|               hour|PULocationID|            amount|num_trips|\n",
      "+-------------------+------------+------------------+---------+\n",
      "|2020-01-01 00:00:00|           3|              25.0|        1|\n",
      "|2020-01-01 00:00:00|           4|1004.3000000000003|       57|\n",
      "|2020-01-01 00:00:00|           7| 455.1700000000001|       38|\n",
      "|2020-01-01 00:00:00|          10|             42.41|        2|\n",
      "|2020-01-01 00:00:00|          12|106.99999999999999|        6|\n",
      "|2020-01-01 00:00:00|          13|            1214.8|       56|\n",
      "|2020-01-01 00:00:00|          14|               8.8|        1|\n",
      "|2020-01-01 00:00:00|          15|             34.09|        1|\n",
      "|2020-01-01 00:00:00|          17|220.20999999999998|        8|\n",
      "|2020-01-01 00:00:00|          18|               5.8|        1|\n",
      "|2020-01-01 00:00:00|          24| 754.9500000000003|       45|\n",
      "|2020-01-01 00:00:00|          25|            324.35|       16|\n",
      "|2020-01-01 00:00:00|          32|              18.0|        1|\n",
      "|2020-01-01 00:00:00|          33|            255.56|        8|\n",
      "|2020-01-01 00:00:00|          34|              19.3|        1|\n",
      "|2020-01-01 00:00:00|          36|            109.17|        3|\n",
      "|2020-01-01 00:00:00|          37|161.60999999999999|        7|\n",
      "|2020-01-01 00:00:00|          40|             89.97|        5|\n",
      "|2020-01-01 00:00:00|          41|1256.5300000000002|       80|\n",
      "|2020-01-01 00:00:00|          42| 635.3500000000003|       46|\n",
      "+-------------------+------------+------------------+---------+\n",
      "only showing top 20 rows\n",
      "\n"
     ]
    },
    {
     "name": "stderr",
     "output_type": "stream",
     "text": [
      "                                                                                \r"
     ]
    }
   ],
   "source": [
    "df_yellow_revenue.show()"
   ]
  },
  {
   "cell_type": "code",
   "execution_count": 25,
   "metadata": {},
   "outputs": [
    {
     "name": "stderr",
     "output_type": "stream",
     "text": [
      "23/04/16 07:23:09 WARN MemoryManager: Total allocation exceeds 95.00% (1,020,054,720 bytes) of heap memory\n",
      "Scaling row group sizes to 95.00% for 8 writers\n",
      "                                                                                \r"
     ]
    }
   ],
   "source": [
    "df_yellow_revenue.write.mode('overwrite').parquet('data/report/revenue/yellow/')"
   ]
  },
  {
   "cell_type": "code",
   "execution_count": 28,
   "metadata": {},
   "outputs": [
    {
     "name": "stderr",
     "output_type": "stream",
     "text": [
      "                                                                                \r"
     ]
    }
   ],
   "source": [
    "df_green_revenue.coalesce(5).write.mode('overwrite').parquet('data/report/revenue/green/')"
   ]
  },
  {
   "cell_type": "code",
   "execution_count": null,
   "metadata": {},
   "outputs": [],
   "source": []
  }
 ],
 "metadata": {
  "kernelspec": {
   "display_name": ".venv",
   "language": "python",
   "name": "python3"
  },
  "language_info": {
   "codemirror_mode": {
    "name": "ipython",
    "version": 3
   },
   "file_extension": ".py",
   "mimetype": "text/x-python",
   "name": "python",
   "nbconvert_exporter": "python",
   "pygments_lexer": "ipython3",
   "version": "3.8.10"
  },
  "orig_nbformat": 4
 },
 "nbformat": 4,
 "nbformat_minor": 2
}
