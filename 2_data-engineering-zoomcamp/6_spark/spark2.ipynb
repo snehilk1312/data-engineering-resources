{
 "cells": [
  {
   "cell_type": "code",
   "execution_count": 16,
   "metadata": {},
   "outputs": [],
   "source": [
    "import pyspark\n",
    "from pyspark.sql import SparkSession\n",
    "from  pyspark.sql import types"
   ]
  },
  {
   "cell_type": "code",
   "execution_count": 2,
   "metadata": {},
   "outputs": [
    {
     "name": "stderr",
     "output_type": "stream",
     "text": [
      "your 131072x1 screen size is bogus. expect trouble\n",
      "23/04/15 10:46:04 WARN Utils: Your hostname, MSI resolves to a loopback address: 127.0.1.1; using 172.21.50.157 instead (on interface eth0)\n",
      "23/04/15 10:46:04 WARN Utils: Set SPARK_LOCAL_IP if you need to bind to another address\n",
      "Setting default log level to \"WARN\".\n",
      "To adjust logging level use sc.setLogLevel(newLevel). For SparkR, use setLogLevel(newLevel).\n",
      "23/04/15 10:46:06 WARN NativeCodeLoader: Unable to load native-hadoop library for your platform... using builtin-java classes where applicable\n"
     ]
    }
   ],
   "source": [
    "spark = SparkSession.builder.master(\"local[*]\").appName('test').getOrCreate()"
   ]
  },
  {
   "cell_type": "code",
   "execution_count": 3,
   "metadata": {},
   "outputs": [],
   "source": [
    "df = spark.read.parquet('fhvhv/2021/01/*.parquet')"
   ]
  },
  {
   "cell_type": "code",
   "execution_count": 4,
   "metadata": {},
   "outputs": [
    {
     "data": {
      "text/plain": [
       "DataFrame[hvfhs_license_num: string, dispatching_base_num: string, pickup_datetime: timestamp, dropoff_datetime: timestamp, PULocationID: int, DOLocationID: int, SR_Flag: string]"
      ]
     },
     "execution_count": 4,
     "metadata": {},
     "output_type": "execute_result"
    }
   ],
   "source": [
    "df"
   ]
  },
  {
   "cell_type": "code",
   "execution_count": 5,
   "metadata": {},
   "outputs": [
    {
     "name": "stdout",
     "output_type": "stream",
     "text": [
      "+-----------------+--------------------+-------------------+-------------------+------------+------------+-------+\n",
      "|hvfhs_license_num|dispatching_base_num|    pickup_datetime|   dropoff_datetime|PULocationID|DOLocationID|SR_Flag|\n",
      "+-----------------+--------------------+-------------------+-------------------+------------+------------+-------+\n",
      "|           HV0005|              B02510|2021-01-02 20:11:50|2021-01-02 20:19:46|          76|         222|   null|\n",
      "|           HV0003|              B02883|2021-01-01 00:16:19|2021-01-01 00:33:12|         107|          97|   null|\n",
      "|           HV0003|              B02871|2021-01-04 21:52:43|2021-01-04 22:02:08|         132|         216|   null|\n",
      "|           HV0003|              B02872|2021-01-02 00:00:33|2021-01-02 00:21:06|         188|          97|   null|\n",
      "|           HV0003|              B02877|2021-01-01 01:59:51|2021-01-01 02:17:01|         241|         142|   null|\n",
      "|           HV0003|              B02765|2021-01-04 13:44:19|2021-01-04 13:55:57|         165|         133|   null|\n",
      "|           HV0003|              B02872|2021-01-02 18:37:47|2021-01-02 19:02:27|         237|          82|   null|\n",
      "|           HV0003|              B02866|2021-01-04 08:36:37|2021-01-04 08:40:24|          10|         216|   null|\n",
      "|           HV0005|              B02510|2021-01-01 22:58:51|2021-01-01 23:06:24|         137|         170|   null|\n",
      "|           HV0003|              B02870|2021-01-04 14:19:03|2021-01-04 14:23:30|         259|         259|   null|\n",
      "|           HV0003|              B02887|2021-01-02 18:46:36|2021-01-02 19:01:04|          61|         177|   null|\n",
      "|           HV0005|              B02510|2021-01-01 00:48:55|2021-01-01 00:59:59|          39|          76|   null|\n",
      "|           HV0003|              B02884|2021-01-01 05:55:48|2021-01-01 06:09:19|         167|          47|   null|\n",
      "|           HV0003|              B02872|2021-01-01 07:17:55|2021-01-01 07:22:33|         186|         170|   null|\n",
      "|           HV0005|              B02510|2021-01-04 15:43:28|2021-01-04 16:06:15|          62|          85|   null|\n",
      "|           HV0003|              B02878|2021-01-01 19:45:33|2021-01-01 19:55:49|          37|          17|   null|\n",
      "|           HV0003|              B02395|2021-01-03 11:08:27|2021-01-03 11:26:39|          69|         244|   null|\n",
      "|           HV0003|              B02865|2021-01-03 09:12:35|2021-01-03 09:28:24|         159|          94|   null|\n",
      "|           HV0005|              B02510|2021-01-02 14:57:53|2021-01-02 15:15:34|         238|         116|   null|\n",
      "|           HV0003|              B02888|2021-01-05 09:32:04|2021-01-05 09:40:38|         198|         157|   null|\n",
      "+-----------------+--------------------+-------------------+-------------------+------------+------------+-------+\n",
      "only showing top 20 rows\n",
      "\n"
     ]
    },
    {
     "name": "stderr",
     "output_type": "stream",
     "text": [
      "                                                                                \r"
     ]
    }
   ],
   "source": [
    "df.show()"
   ]
  },
  {
   "cell_type": "code",
   "execution_count": 6,
   "metadata": {},
   "outputs": [
    {
     "name": "stdout",
     "output_type": "stream",
     "text": [
      "root\n",
      " |-- hvfhs_license_num: string (nullable = true)\n",
      " |-- dispatching_base_num: string (nullable = true)\n",
      " |-- pickup_datetime: timestamp (nullable = true)\n",
      " |-- dropoff_datetime: timestamp (nullable = true)\n",
      " |-- PULocationID: integer (nullable = true)\n",
      " |-- DOLocationID: integer (nullable = true)\n",
      " |-- SR_Flag: string (nullable = true)\n",
      "\n"
     ]
    }
   ],
   "source": [
    "df.printSchema()"
   ]
  },
  {
   "cell_type": "code",
   "execution_count": 7,
   "metadata": {},
   "outputs": [
    {
     "name": "stdout",
     "output_type": "stream",
     "text": [
      "+-------------------+-------------------+------------+------------+\n",
      "|    pickup_datetime|   dropoff_datetime|PULocationID|DOLocationID|\n",
      "+-------------------+-------------------+------------+------------+\n",
      "|2021-01-02 20:11:50|2021-01-02 20:19:46|          76|         222|\n",
      "|2021-01-01 00:16:19|2021-01-01 00:33:12|         107|          97|\n",
      "|2021-01-04 21:52:43|2021-01-04 22:02:08|         132|         216|\n",
      "|2021-01-02 00:00:33|2021-01-02 00:21:06|         188|          97|\n",
      "|2021-01-01 01:59:51|2021-01-01 02:17:01|         241|         142|\n",
      "|2021-01-04 13:44:19|2021-01-04 13:55:57|         165|         133|\n",
      "|2021-01-02 18:37:47|2021-01-02 19:02:27|         237|          82|\n",
      "|2021-01-04 08:36:37|2021-01-04 08:40:24|          10|         216|\n",
      "|2021-01-01 22:58:51|2021-01-01 23:06:24|         137|         170|\n",
      "|2021-01-04 14:19:03|2021-01-04 14:23:30|         259|         259|\n",
      "|2021-01-02 18:46:36|2021-01-02 19:01:04|          61|         177|\n",
      "|2021-01-01 00:48:55|2021-01-01 00:59:59|          39|          76|\n",
      "|2021-01-01 05:55:48|2021-01-01 06:09:19|         167|          47|\n",
      "|2021-01-01 07:17:55|2021-01-01 07:22:33|         186|         170|\n",
      "|2021-01-04 15:43:28|2021-01-04 16:06:15|          62|          85|\n",
      "|2021-01-01 19:45:33|2021-01-01 19:55:49|          37|          17|\n",
      "|2021-01-03 11:08:27|2021-01-03 11:26:39|          69|         244|\n",
      "|2021-01-03 09:12:35|2021-01-03 09:28:24|         159|          94|\n",
      "|2021-01-02 14:57:53|2021-01-02 15:15:34|         238|         116|\n",
      "|2021-01-05 09:32:04|2021-01-05 09:40:38|         198|         157|\n",
      "+-------------------+-------------------+------------+------------+\n",
      "only showing top 20 rows\n",
      "\n"
     ]
    }
   ],
   "source": [
    "# selecting column\n",
    "df.select('pickup_datetime','dropoff_datetime','PULocationID','DOLocationID').show()"
   ]
  },
  {
   "cell_type": "code",
   "execution_count": 8,
   "metadata": {},
   "outputs": [
    {
     "name": "stdout",
     "output_type": "stream",
     "text": [
      "+-------------------+-------------------+------------+------------+\n",
      "|    pickup_datetime|   dropoff_datetime|PULocationID|DOLocationID|\n",
      "+-------------------+-------------------+------------+------------+\n",
      "|2021-01-04 04:09:52|2021-01-04 04:15:57|         162|         230|\n",
      "|2021-01-04 09:32:44|2021-01-04 09:41:08|         263|         237|\n",
      "|2021-01-02 12:57:12|2021-01-02 13:18:27|         162|         181|\n",
      "|2021-01-05 10:39:10|2021-01-05 11:05:08|         231|          75|\n",
      "|2021-01-04 14:31:33|2021-01-04 14:44:18|          38|         218|\n",
      "|2021-01-02 20:18:23|2021-01-02 21:00:01|         152|          35|\n",
      "|2021-01-02 23:07:16|2021-01-02 23:25:24|         236|          68|\n",
      "|2021-01-04 06:43:44|2021-01-04 07:07:33|         235|         142|\n",
      "|2021-01-03 17:04:29|2021-01-03 17:30:17|         256|          17|\n",
      "|2021-01-04 09:43:40|2021-01-04 09:52:13|         143|         238|\n",
      "|2021-01-01 18:13:04|2021-01-01 18:39:35|          32|          41|\n",
      "|2021-01-02 16:54:23|2021-01-02 17:10:27|         189|          66|\n",
      "|2021-01-01 04:17:18|2021-01-01 04:39:25|          78|          75|\n",
      "|2021-01-02 14:08:31|2021-01-02 14:35:16|         192|         141|\n",
      "|2021-01-01 12:56:50|2021-01-01 13:25:57|           1|         243|\n",
      "|2021-01-03 09:09:47|2021-01-03 09:20:18|          97|         112|\n",
      "|2021-01-01 22:08:53|2021-01-01 22:14:33|         151|         166|\n",
      "|2021-01-03 17:41:31|2021-01-03 17:50:09|         113|         224|\n",
      "|2021-01-04 15:28:51|2021-01-04 15:46:52|         137|         194|\n",
      "|2021-01-03 19:32:19|2021-01-03 19:41:08|         113|          68|\n",
      "+-------------------+-------------------+------------+------------+\n",
      "only showing top 20 rows\n",
      "\n"
     ]
    }
   ],
   "source": [
    "df.select('pickup_datetime','dropoff_datetime','PULocationID','DOLocationID').filter(df.hvfhs_license_num=='HV0004').show()"
   ]
  },
  {
   "attachments": {},
   "cell_type": "markdown",
   "metadata": {},
   "source": [
    "#### functions"
   ]
  },
  {
   "cell_type": "code",
   "execution_count": 9,
   "metadata": {},
   "outputs": [],
   "source": [
    "from pyspark.sql import functions as F"
   ]
  },
  {
   "cell_type": "code",
   "execution_count": 12,
   "metadata": {},
   "outputs": [
    {
     "name": "stdout",
     "output_type": "stream",
     "text": [
      "+-------------------------+\n",
      "|to_date(dropoff_datetime)|\n",
      "+-------------------------+\n",
      "|               2021-01-02|\n",
      "|               2021-01-01|\n",
      "|               2021-01-04|\n",
      "|               2021-01-02|\n",
      "|               2021-01-01|\n",
      "|               2021-01-04|\n",
      "|               2021-01-02|\n",
      "|               2021-01-04|\n",
      "|               2021-01-01|\n",
      "|               2021-01-04|\n",
      "|               2021-01-02|\n",
      "|               2021-01-01|\n",
      "|               2021-01-01|\n",
      "|               2021-01-01|\n",
      "|               2021-01-04|\n",
      "|               2021-01-01|\n",
      "|               2021-01-03|\n",
      "|               2021-01-03|\n",
      "|               2021-01-02|\n",
      "|               2021-01-05|\n",
      "+-------------------------+\n",
      "only showing top 20 rows\n",
      "\n"
     ]
    }
   ],
   "source": [
    "df.select(F.to_date(df.dropoff_datetime)).show()"
   ]
  },
  {
   "cell_type": "code",
   "execution_count": 13,
   "metadata": {},
   "outputs": [
    {
     "name": "stdout",
     "output_type": "stream",
     "text": [
      "+-----------+------------+------------+------------+\n",
      "|pickup_date|dropoff_date|PULocationID|DOLocationID|\n",
      "+-----------+------------+------------+------------+\n",
      "| 2021-01-02|  2021-01-02|          76|         222|\n",
      "| 2021-01-01|  2021-01-01|         107|          97|\n",
      "| 2021-01-04|  2021-01-04|         132|         216|\n",
      "| 2021-01-02|  2021-01-02|         188|          97|\n",
      "| 2021-01-01|  2021-01-01|         241|         142|\n",
      "| 2021-01-04|  2021-01-04|         165|         133|\n",
      "| 2021-01-02|  2021-01-02|         237|          82|\n",
      "| 2021-01-04|  2021-01-04|          10|         216|\n",
      "| 2021-01-01|  2021-01-01|         137|         170|\n",
      "| 2021-01-04|  2021-01-04|         259|         259|\n",
      "| 2021-01-02|  2021-01-02|          61|         177|\n",
      "| 2021-01-01|  2021-01-01|          39|          76|\n",
      "| 2021-01-01|  2021-01-01|         167|          47|\n",
      "| 2021-01-01|  2021-01-01|         186|         170|\n",
      "| 2021-01-04|  2021-01-04|          62|          85|\n",
      "| 2021-01-01|  2021-01-01|          37|          17|\n",
      "| 2021-01-03|  2021-01-03|          69|         244|\n",
      "| 2021-01-03|  2021-01-03|         159|          94|\n",
      "| 2021-01-02|  2021-01-02|         238|         116|\n",
      "| 2021-01-05|  2021-01-05|         198|         157|\n",
      "+-----------+------------+------------+------------+\n",
      "only showing top 20 rows\n",
      "\n"
     ]
    }
   ],
   "source": [
    "df\\\n",
    "    .withColumn('pickup_date',F.to_date(df.pickup_datetime)) \\\n",
    "    .withColumn('dropoff_date',F.to_date(df.dropoff_datetime)) \\\n",
    "    .select('pickup_date','dropoff_date','PULocationID','DOLocationID') \\\n",
    "    .show()"
   ]
  },
  {
   "attachments": {},
   "cell_type": "markdown",
   "metadata": {},
   "source": [
    "#### user defined functions"
   ]
  },
  {
   "cell_type": "code",
   "execution_count": 14,
   "metadata": {},
   "outputs": [],
   "source": [
    "def demo_udf(text):\n",
    "    text = int(text[1:])\n",
    "    if text % 7==0:\n",
    "        return f's/{text}'\n",
    "    elif text % 3==0:\n",
    "        return f'r/{text}'\n",
    "    else:\n",
    "        return f'b/{text}'"
   ]
  },
  {
   "cell_type": "code",
   "execution_count": 19,
   "metadata": {},
   "outputs": [],
   "source": [
    "demo_udf = F.udf(demo_udf, returnType=types.StringType())"
   ]
  },
  {
   "cell_type": "code",
   "execution_count": 21,
   "metadata": {},
   "outputs": [
    {
     "name": "stdout",
     "output_type": "stream",
     "text": [
      "+-----------+------------+------------+------------+--------------------------+\n",
      "|pickup_date|dropoff_date|PULocationID|DOLocationID|dispatching_base_num_trans|\n",
      "+-----------+------------+------------+------------+--------------------------+\n",
      "| 2021-01-02|  2021-01-02|          76|         222|                    b/2510|\n",
      "| 2021-01-01|  2021-01-01|         107|          97|                    r/2883|\n",
      "| 2021-01-04|  2021-01-04|         132|         216|                    r/2871|\n",
      "| 2021-01-02|  2021-01-02|         188|          97|                    b/2872|\n",
      "| 2021-01-01|  2021-01-01|         241|         142|                    s/2877|\n",
      "| 2021-01-04|  2021-01-04|         165|         133|                    s/2765|\n",
      "| 2021-01-02|  2021-01-02|         237|          82|                    b/2872|\n",
      "| 2021-01-04|  2021-01-04|          10|         216|                    b/2866|\n",
      "| 2021-01-01|  2021-01-01|         137|         170|                    b/2510|\n",
      "| 2021-01-04|  2021-01-04|         259|         259|                    s/2870|\n",
      "| 2021-01-02|  2021-01-02|          61|         177|                    b/2887|\n",
      "| 2021-01-01|  2021-01-01|          39|          76|                    b/2510|\n",
      "| 2021-01-01|  2021-01-01|         167|          47|                    s/2884|\n",
      "| 2021-01-01|  2021-01-01|         186|         170|                    b/2872|\n",
      "| 2021-01-04|  2021-01-04|          62|          85|                    b/2510|\n",
      "| 2021-01-01|  2021-01-01|          37|          17|                    b/2878|\n",
      "| 2021-01-03|  2021-01-03|          69|         244|                    b/2395|\n",
      "| 2021-01-03|  2021-01-03|         159|          94|                    r/2865|\n",
      "| 2021-01-02|  2021-01-02|         238|         116|                    b/2510|\n",
      "| 2021-01-05|  2021-01-05|         198|         157|                    b/2888|\n",
      "+-----------+------------+------------+------------+--------------------------+\n",
      "only showing top 20 rows\n",
      "\n"
     ]
    },
    {
     "name": "stderr",
     "output_type": "stream",
     "text": [
      "                                                                                \r"
     ]
    }
   ],
   "source": [
    "df\\\n",
    "    .withColumn('pickup_date',F.to_date(df.pickup_datetime)) \\\n",
    "    .withColumn('dropoff_date',F.to_date(df.dropoff_datetime)) \\\n",
    "    .withColumn('dispatching_base_num_trans', demo_udf(df.dispatching_base_num)) \\\n",
    "    .select('pickup_date','dropoff_date','PULocationID','DOLocationID','dispatching_base_num_trans') \\\n",
    "    .show()"
   ]
  },
  {
   "cell_type": "code",
   "execution_count": null,
   "metadata": {},
   "outputs": [],
   "source": []
  }
 ],
 "metadata": {
  "kernelspec": {
   "display_name": ".venv",
   "language": "python",
   "name": "python3"
  },
  "language_info": {
   "codemirror_mode": {
    "name": "ipython",
    "version": 3
   },
   "file_extension": ".py",
   "mimetype": "text/x-python",
   "name": "python",
   "nbconvert_exporter": "python",
   "pygments_lexer": "ipython3",
   "version": "3.8.10"
  },
  "orig_nbformat": 4
 },
 "nbformat": 4,
 "nbformat_minor": 2
}
