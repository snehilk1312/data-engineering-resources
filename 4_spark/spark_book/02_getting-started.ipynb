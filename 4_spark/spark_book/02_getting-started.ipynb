{
 "cells": [
  {
   "cell_type": "code",
   "execution_count": 3,
   "metadata": {},
   "outputs": [],
   "source": [
    "import pyspark\n",
    "from pyspark.sql import SparkSession"
   ]
  },
  {
   "cell_type": "code",
   "execution_count": 4,
   "metadata": {},
   "outputs": [
    {
     "name": "stderr",
     "output_type": "stream",
     "text": [
      "your 131072x1 screen size is bogus. expect trouble\n",
      "23/04/19 19:22:42 WARN Utils: Your hostname, MSI resolves to a loopback address: 127.0.1.1; using 172.25.166.20 instead (on interface eth0)\n",
      "23/04/19 19:22:42 WARN Utils: Set SPARK_LOCAL_IP if you need to bind to another address\n",
      "Setting default log level to \"WARN\".\n",
      "To adjust logging level use sc.setLogLevel(newLevel). For SparkR, use setLogLevel(newLevel).\n",
      "23/04/19 19:22:43 WARN NativeCodeLoader: Unable to load native-hadoop library for your platform... using builtin-java classes where applicable\n"
     ]
    }
   ],
   "source": [
    "spark  =SparkSession.builder.master(\"local[4]\").appName('test').getOrCreate()"
   ]
  },
  {
   "cell_type": "code",
   "execution_count": 6,
   "metadata": {},
   "outputs": [],
   "source": [
    "strings = spark.read.text('01_echo-client.py')"
   ]
  },
  {
   "cell_type": "code",
   "execution_count": 8,
   "metadata": {},
   "outputs": [
    {
     "name": "stdout",
     "output_type": "stream",
     "text": [
      "+------------------------------------------------------------+\n",
      "|value                                                       |\n",
      "+------------------------------------------------------------+\n",
      "|# echo-client.py                                            |\n",
      "|                                                            |\n",
      "|import socket                                               |\n",
      "|import argparse                                             |\n",
      "|                                                            |\n",
      "|parser = argparse.ArgumentParser()                          |\n",
      "|parser.add_argument('port')                                 |\n",
      "|args=parser.parse_args()                                    |\n",
      "|                                                            |\n",
      "|HOST = \"127.0.0.1\"  # The server's hostname or IP address   |\n",
      "|PORT = int(args.port)  # The port used by the server        |\n",
      "|                                                            |\n",
      "|with socket.socket(socket.AF_INET, socket.SOCK_STREAM) as s:|\n",
      "|    s.connect((HOST, PORT))                                 |\n",
      "|    while True:                                             |\n",
      "|        string = input()                                    |\n",
      "|        s.sendall(string.encode())                          |\n",
      "|        data = s.recv(1024)                                 |\n",
      "|        print(f\"Received {data!r}\")                         |\n",
      "+------------------------------------------------------------+\n",
      "\n"
     ]
    }
   ],
   "source": [
    "strings.show(truncate=False)"
   ]
  },
  {
   "cell_type": "code",
   "execution_count": 9,
   "metadata": {},
   "outputs": [
    {
     "data": {
      "text/plain": [
       "19"
      ]
     },
     "execution_count": 9,
     "metadata": {},
     "output_type": "execute_result"
    }
   ],
   "source": [
    "strings.count()"
   ]
  },
  {
   "cell_type": "code",
   "execution_count": null,
   "metadata": {},
   "outputs": [],
   "source": []
  }
 ],
 "metadata": {
  "kernelspec": {
   "display_name": ".venv",
   "language": "python",
   "name": "python3"
  },
  "language_info": {
   "codemirror_mode": {
    "name": "ipython",
    "version": 3
   },
   "file_extension": ".py",
   "mimetype": "text/x-python",
   "name": "python",
   "nbconvert_exporter": "python",
   "pygments_lexer": "ipython3",
   "version": "3.8.10"
  },
  "orig_nbformat": 4
 },
 "nbformat": 4,
 "nbformat_minor": 2
}
