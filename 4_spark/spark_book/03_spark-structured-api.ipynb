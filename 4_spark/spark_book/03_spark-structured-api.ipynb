{
 "cells": [
  {
   "cell_type": "code",
   "execution_count": 1,
   "metadata": {},
   "outputs": [],
   "source": [
    "import pyspark\n",
    "from pyspark.sql import SparkSession,types"
   ]
  },
  {
   "cell_type": "code",
   "execution_count": 2,
   "metadata": {},
   "outputs": [
    {
     "name": "stderr",
     "output_type": "stream",
     "text": [
      "your 131072x1 screen size is bogus. expect trouble\n",
      "23/04/20 21:06:55 WARN Utils: Your hostname, MSI resolves to a loopback address: 127.0.1.1; using 172.21.94.33 instead (on interface eth0)\n",
      "23/04/20 21:06:55 WARN Utils: Set SPARK_LOCAL_IP if you need to bind to another address\n",
      "Setting default log level to \"WARN\".\n",
      "To adjust logging level use sc.setLogLevel(newLevel). For SparkR, use setLogLevel(newLevel).\n",
      "23/04/20 21:06:56 WARN NativeCodeLoader: Unable to load native-hadoop library for your platform... using builtin-java classes where applicable\n"
     ]
    }
   ],
   "source": [
    "spark = SparkSession.builder.appName('spark-api').enableHiveSupport().getOrCreate()"
   ]
  },
  {
   "attachments": {},
   "cell_type": "markdown",
   "metadata": {},
   "source": [
    "### `Schema`"
   ]
  },
  {
   "cell_type": "code",
   "execution_count": 3,
   "metadata": {},
   "outputs": [],
   "source": [
    "# defining schema using DDL\n",
    "schema = \"`State` string, `Color` string, `Count` int\"\n",
    "\n",
    "\n",
    "# alternative way to define schema - programatically\n",
    "# schema = types.StructType([\n",
    "#             types.StructField(\"State\", types.StringType(),False),\n",
    "#             types.StructField(\"Color\", types.StringType(),False),\n",
    "#             types.StructField(\"Count\", types.IntegerType(),False)\n",
    "# ])\n",
    "\n",
    "df = spark.read.csv('data/mnm.csv',schema=schema,header=True)"
   ]
  },
  {
   "cell_type": "code",
   "execution_count": 15,
   "metadata": {},
   "outputs": [
    {
     "name": "stdout",
     "output_type": "stream",
     "text": [
      "root\n",
      " |-- State: string (nullable = true)\n",
      " |-- Color: string (nullable = true)\n",
      " |-- Count: integer (nullable = true)\n",
      "\n"
     ]
    }
   ],
   "source": [
    "df.printSchema()"
   ]
  },
  {
   "cell_type": "code",
   "execution_count": 16,
   "metadata": {},
   "outputs": [
    {
     "name": "stdout",
     "output_type": "stream",
     "text": [
      "+-----+------+-----+\n",
      "|State| Color|Count|\n",
      "+-----+------+-----+\n",
      "|   TX|   Red|   20|\n",
      "|   NV|  Blue|   66|\n",
      "|   CO|  Blue|   79|\n",
      "|   OR|  Blue|   71|\n",
      "|   WA|Yellow|   93|\n",
      "|   WY|  Blue|   16|\n",
      "|   CA|Yellow|   53|\n",
      "|   WA| Green|   60|\n",
      "|   OR| Green|   71|\n",
      "|   TX| Green|   68|\n",
      "|   NV| Green|   59|\n",
      "|   AZ| Brown|   95|\n",
      "|   WA|Yellow|   20|\n",
      "|   AZ|  Blue|   75|\n",
      "|   OR| Brown|   72|\n",
      "|   NV|   Red|   98|\n",
      "|   WY|Orange|   45|\n",
      "|   CO|  Blue|   52|\n",
      "|   TX| Brown|   94|\n",
      "|   CO|   Red|   82|\n",
      "+-----+------+-----+\n",
      "only showing top 20 rows\n",
      "\n"
     ]
    }
   ],
   "source": [
    "df.show()"
   ]
  },
  {
   "cell_type": "code",
   "execution_count": 17,
   "metadata": {},
   "outputs": [
    {
     "data": {
      "text/plain": [
       "StructType([StructField('State', StringType(), True), StructField('Color', StringType(), True), StructField('Count', IntegerType(), True)])"
      ]
     },
     "execution_count": 17,
     "metadata": {},
     "output_type": "execute_result"
    }
   ],
   "source": [
    "df.schema"
   ]
  },
  {
   "attachments": {},
   "cell_type": "markdown",
   "metadata": {},
   "source": [
    "### `Columns`"
   ]
  },
  {
   "cell_type": "code",
   "execution_count": 45,
   "metadata": {},
   "outputs": [],
   "source": [
    "from pyspark.sql import functions as F"
   ]
  },
  {
   "cell_type": "code",
   "execution_count": 32,
   "metadata": {},
   "outputs": [
    {
     "name": "stdout",
     "output_type": "stream",
     "text": [
      "+-----+-----+---------+\n",
      "|State|Count|Count_New|\n",
      "+-----+-----+---------+\n",
      "|   TX|   20|      100|\n",
      "|   NV|   66|      330|\n",
      "|   CO|   79|      395|\n",
      "|   OR|   71|      355|\n",
      "|   WA|   93|      465|\n",
      "+-----+-----+---------+\n",
      "only showing top 5 rows\n",
      "\n"
     ]
    }
   ],
   "source": [
    "# using expr func\n",
    "df.select(\"State\",\"Count\",F.expr(\"Count*5\").alias('Count_New')).show(5)"
   ]
  },
  {
   "cell_type": "code",
   "execution_count": 31,
   "metadata": {},
   "outputs": [
    {
     "name": "stdout",
     "output_type": "stream",
     "text": [
      "+-----+-----+-----------+\n",
      "|State|Count|(Count * 5)|\n",
      "+-----+-----+-----------+\n",
      "|   TX|   20|        100|\n",
      "|   NV|   66|        330|\n",
      "|   CO|   79|        395|\n",
      "|   OR|   71|        355|\n",
      "|   WA|   93|        465|\n",
      "+-----+-----+-----------+\n",
      "only showing top 5 rows\n",
      "\n"
     ]
    }
   ],
   "source": [
    "# using col functions\n",
    "df.select(\"State\",\"Count\",F.col(\"Count\")*5).show(5)"
   ]
  },
  {
   "cell_type": "code",
   "execution_count": 34,
   "metadata": {},
   "outputs": [
    {
     "name": "stdout",
     "output_type": "stream",
     "text": [
      "+-----+------+-----+\n",
      "|State| Color|Count|\n",
      "+-----+------+-----+\n",
      "|   UT|   Red|  100|\n",
      "|   NM|Orange|  100|\n",
      "|   NV|   Red|  100|\n",
      "|   TX|   Red|  100|\n",
      "|   UT|Yellow|  100|\n",
      "+-----+------+-----+\n",
      "only showing top 5 rows\n",
      "\n"
     ]
    }
   ],
   "source": [
    "df.sort(F.desc(\"Count\")).show(5)"
   ]
  },
  {
   "cell_type": "code",
   "execution_count": 39,
   "metadata": {},
   "outputs": [
    {
     "name": "stdout",
     "output_type": "stream",
     "text": [
      "+-----+------+-----+\n",
      "|State| Color|Count|\n",
      "+-----+------+-----+\n",
      "|   UT|   Red|  100|\n",
      "|   NM|Orange|  100|\n",
      "|   NV|   Red|  100|\n",
      "|   TX|   Red|  100|\n",
      "|   UT|Yellow|  100|\n",
      "+-----+------+-----+\n",
      "only showing top 5 rows\n",
      "\n"
     ]
    }
   ],
   "source": [
    "df.sort(F.col(\"Count\").desc()).show(5)"
   ]
  },
  {
   "attachments": {},
   "cell_type": "markdown",
   "metadata": {},
   "source": [
    "### `Row`"
   ]
  },
  {
   "cell_type": "code",
   "execution_count": 40,
   "metadata": {},
   "outputs": [],
   "source": [
    "from pyspark.sql import Row"
   ]
  },
  {
   "cell_type": "code",
   "execution_count": 44,
   "metadata": {},
   "outputs": [],
   "source": [
    "new_row = [Row('BH','Blue',23)]"
   ]
  },
  {
   "cell_type": "code",
   "execution_count": 45,
   "metadata": {},
   "outputs": [
    {
     "data": {
      "text/plain": [
       "[<Row('BH', 'Blue', 23)>]"
      ]
     },
     "execution_count": 45,
     "metadata": {},
     "output_type": "execute_result"
    }
   ],
   "source": [
    "new_row"
   ]
  },
  {
   "cell_type": "code",
   "execution_count": 46,
   "metadata": {},
   "outputs": [],
   "source": [
    "new_df = spark.createDataFrame(new_row,schema=schema)"
   ]
  },
  {
   "cell_type": "code",
   "execution_count": 47,
   "metadata": {},
   "outputs": [
    {
     "name": "stdout",
     "output_type": "stream",
     "text": [
      "+-----+-----+-----+\n",
      "|State|Color|Count|\n",
      "+-----+-----+-----+\n",
      "|   BH| Blue|   23|\n",
      "+-----+-----+-----+\n",
      "\n"
     ]
    }
   ],
   "source": [
    "new_df.show()"
   ]
  },
  {
   "cell_type": "code",
   "execution_count": 48,
   "metadata": {},
   "outputs": [],
   "source": [
    "df_mod = df.union(new_df)"
   ]
  },
  {
   "cell_type": "code",
   "execution_count": 52,
   "metadata": {},
   "outputs": [
    {
     "data": {
      "text/plain": [
       "[Row(State='UT', Color='Orange', Count=87),\n",
       " Row(State='WA', Color='Blue', Count=31),\n",
       " Row(State='OR', Color='Brown', Count=78),\n",
       " Row(State='NV', Color='Orange', Count=73),\n",
       " Row(State='BH', Color='Blue', Count=23)]"
      ]
     },
     "execution_count": 52,
     "metadata": {},
     "output_type": "execute_result"
    }
   ],
   "source": [
    "df_mod.tail(5)"
   ]
  },
  {
   "attachments": {},
   "cell_type": "markdown",
   "metadata": {},
   "source": [
    "### `Read,Write`"
   ]
  },
  {
   "cell_type": "code",
   "execution_count": 55,
   "metadata": {},
   "outputs": [
    {
     "name": "stderr",
     "output_type": "stream",
     "text": [
      "                                                                                \r"
     ]
    }
   ],
   "source": [
    "df_fire = spark.read.csv('/home/snehil/snehi/Desktop/Data/fire.csv',inferSchema=True,header=True)"
   ]
  },
  {
   "cell_type": "code",
   "execution_count": 56,
   "metadata": {},
   "outputs": [
    {
     "name": "stdout",
     "output_type": "stream",
     "text": [
      "+---------------+---------------+--------+--------------------+-------------------+-----------+-------------------+-------------------+-------------------+----+-------+---------+------------+----+-----------------+---------------------+---------+-------------+-----------+---------------+-------------------+-----------------------+-----------------------+---------------+-------------+-------------------+-----------------+----------------+--------------------+----------+--------------------+----------------------+------------------+--------------------------+--------------------+-------------------+--------------+-----------------------+-------------------------+-----------+------------------+--------------------------------------+--------------+----------------+--------------------+-----------+--------------+------------------------------------+----------------------------------------+----------------------------------+------------------------------------+-----------------+-------------+------------------+----------------------+-----------------------+--------------------------------------+----------------------------------+----------------------------------------+--------------------------------------------+-----------------------------------+-------------------+---------------------+--------------------+\n",
      "|Incident Number|Exposure Number|      ID|             Address|      Incident Date|Call Number|         Alarm DtTm|       Arrival DtTm|         Close DtTm|City|zipcode|Battalion|Station Area| Box|Suppression Units|Suppression Personnel|EMS Units|EMS Personnel|Other Units|Other Personnel|First Unit On Scene|Estimated Property Loss|Estimated Contents Loss|Fire Fatalities|Fire Injuries|Civilian Fatalities|Civilian Injuries|Number of Alarms|   Primary Situation|Mutual Aid|Action Taken Primary|Action Taken Secondary|Action Taken Other|Detector Alerted Occupants|        Property Use|Area of Fire Origin|Ignition Cause|Ignition Factor Primary|Ignition Factor Secondary|Heat Source|Item First Ignited|Human Factors Associated with Ignition|Structure Type|Structure Status|Floor of Fire Origin|Fire Spread|No Flame Spead|Number of floors with minimum damage|Number of floors with significant damage|Number of floors with heavy damage|Number of floors with extreme damage|Detectors Present|Detector Type|Detector Operation|Detector Effectiveness|Detector Failure Reason|Automatic Extinguishing System Present|Automatic Extinguishing Sytem Type|Automatic Extinguishing Sytem Perfomance|Automatic Extinguishing Sytem Failure Reason|Number of Sprinkler Heads Operating|Supervisor District|neighborhood_district|               point|\n",
      "+---------------+---------------+--------+--------------------+-------------------+-----------+-------------------+-------------------+-------------------+----+-------+---------+------------+----+-----------------+---------------------+---------+-------------+-----------+---------------+-------------------+-----------------------+-----------------------+---------------+-------------+-------------------+-----------------+----------------+--------------------+----------+--------------------+----------------------+------------------+--------------------------+--------------------+-------------------+--------------+-----------------------+-------------------------+-----------+------------------+--------------------------------------+--------------+----------------+--------------------+-----------+--------------+------------------------------------+----------------------------------------+----------------------------------+------------------------------------+-----------------+-------------+------------------+----------------------+-----------------------+--------------------------------------+----------------------------------+----------------------------------------+--------------------------------------------+-----------------------------------+-------------------+---------------------+--------------------+\n",
      "|        8028304|              0|80283040|       150 Elsie St.|2008-04-01 00:00:00|   80920257|2008-04-01 18:06:37|2008-04-01 18:15:19|2008-04-01 18:21:48|  SF|  94110|      B06|          11|null|                1|                    4|        0|            0|          0|              0|                E11|                   null|                   null|              0|            0|                  0|                0|               1|412 - Gas leak (n...|      None|    86 - Investigate|                     -|                 -|                         -|962 - Residential...|               null|          null|                   null|                     null|       null|              null|                                  null|          null|            null|                null|       null|          null|                                null|                                    null|                              null|                                null|             null|         null|              null|                  null|                   null|                                  null|                              null|                                    null|                                        null|                               null|                  9|       Bernal Heights|POINT (-122.41837...|\n",
      "|        8028303|              0|80283030|       85 Turner Tr.|2008-04-01 00:00:00|   80920256|2008-04-01 18:00:52|2008-04-01 18:06:30|2008-04-01 18:22:18|  SF|  94107|      B10|          37|null|                1|                    4|        0|            0|          0|              0|                E37|                   null|                   null|              0|            0|                  0|                0|               1| 552 - Police matter|      None|  76 - Provide water|                     -|                 -|                         -| 960 - Street, other|               null|          null|                   null|                     null|       null|              null|                                  null|          null|            null|                null|       null|          null|                                null|                                    null|                              null|                                null|             null|         null|              null|                  null|                   null|                                  null|                              null|                                    null|                                        null|                               null|               null|         Potrero Hill|POINT (-122.39489...|\n",
      "|        8028309|              0|80283090|         175 6th St.|2008-04-01 00:00:00|   80920262|2008-04-01 18:42:06|2008-04-01 18:45:23|2008-04-01 18:53:25|  SF|  94105|      B03|          01|null|               10|                   35|        0|            0|          0|              0|                E01|                   null|                   null|              0|            0|                  0|                0|               1|210 - Steam Ruptu...|      None|    86 - Investigate|                     -|                 -|                         -|429 - Multifamily...|               null|          null|                   null|                     null|       null|              null|                                  null|          null|            null|                null|       null|          null|                                null|                                    null|                              null|                                null|             null|         null|              null|                  null|                   null|                                  null|                              null|                                    null|                                        null|                               null|               null|      South of Market|POINT (-122.40746...|\n",
      "|        8028314|              0|80283140|       633 Hayes St.|2008-04-01 00:00:00|   80920268|2008-04-01 19:03:52|2008-04-01 19:08:39|2008-04-01 19:35:36|  SF|  94102|      B02|          36|null|                1|                    4|        0|            0|          0|              0|                E36|                   null|                   null|              0|            0|                  0|                0|               1|522 - Water or st...|      None|64 - Shut down sy...|                     -|                 -|                         -|400 - Residential...|               null|          null|                   null|                     null|       null|              null|                                  null|          null|            null|                null|       null|          null|                                null|                                    null|                              null|                                null|             null|         null|              null|                  null|                   null|                                  null|                              null|                                    null|                                        null|                               null|                  5|         Hayes Valley|POINT (-122.42684...|\n",
      "|        8028319|              0|80283190|27th Av. / Cabril...|2008-04-01 00:00:00|   80920273|2008-04-01 19:16:12|2008-04-01 19:23:48|2008-04-01 19:28:49|  SF|  94121|      B07|          14|null|                1|                    4|        0|            0|          0|              0|                E14|                   null|                   null|              0|            0|                  0|                0|               1|520 - Water probl...|      None|00 - Action taken...|                     -|                 -|                         -| 960 - Street, other|               null|          null|                   null|                     null|       null|              null|                                  null|          null|            null|                null|       null|          null|                                null|                                    null|                              null|                                null|             null|         null|              null|                  null|                   null|                                  null|                              null|                                    null|                                        null|                               null|               null|       Outer Richmond|POINT (-122.48639...|\n",
      "+---------------+---------------+--------+--------------------+-------------------+-----------+-------------------+-------------------+-------------------+----+-------+---------+------------+----+-----------------+---------------------+---------+-------------+-----------+---------------+-------------------+-----------------------+-----------------------+---------------+-------------+-------------------+-----------------+----------------+--------------------+----------+--------------------+----------------------+------------------+--------------------------+--------------------+-------------------+--------------+-----------------------+-------------------------+-----------+------------------+--------------------------------------+--------------+----------------+--------------------+-----------+--------------+------------------------------------+----------------------------------------+----------------------------------+------------------------------------+-----------------+-------------+------------------+----------------------+-----------------------+--------------------------------------+----------------------------------+----------------------------------------+--------------------------------------------+-----------------------------------+-------------------+---------------------+--------------------+\n",
      "only showing top 5 rows\n",
      "\n"
     ]
    }
   ],
   "source": [
    "df_fire.show(5)"
   ]
  },
  {
   "attachments": {},
   "cell_type": "markdown",
   "metadata": {},
   "source": [
    "### `Projections and Filters`"
   ]
  },
  {
   "cell_type": "code",
   "execution_count": 77,
   "metadata": {},
   "outputs": [
    {
     "name": "stdout",
     "output_type": "stream",
     "text": [
      "+---------------+---------------+--------+-----------------+-------------------+-----------+-------------------+-------------------+-------------------+----+-------+---------+------------+----+-----------------+---------------------+---------+-------------+-----------+---------------+-------------------+-----------------------+-----------------------+---------------+-------------+-------------------+-----------------+----------------+---------------------------------------------+----------+--------------------+----------------------+------------------+--------------------------+---------------------------------------+------------------------------------------+------------------------------------------+-----------------------+-------------------------+-----------------+------------------------------------------+--------------------------------------+--------------+----------------+--------------------+-----------+--------------+------------------------------------+----------------------------------------+----------------------------------+------------------------------------+-----------------+-------------+------------------+----------------------+-----------------------+--------------------------------------+----------------------------------+----------------------------------------+--------------------------------------------+-----------------------------------+-------------------+---------------------+--------------------------------+\n",
      "|Incident Number|Exposure Number|ID      |Address          |Incident Date      |Call Number|Alarm DtTm         |Arrival DtTm       |Close DtTm         |City|zipcode|Battalion|Station Area|Box |Suppression Units|Suppression Personnel|EMS Units|EMS Personnel|Other Units|Other Personnel|First Unit On Scene|Estimated Property Loss|Estimated Contents Loss|Fire Fatalities|Fire Injuries|Civilian Fatalities|Civilian Injuries|Number of Alarms|Primary Situation                            |Mutual Aid|Action Taken Primary|Action Taken Secondary|Action Taken Other|Detector Alerted Occupants|Property Use                           |Area of Fire Origin                       |Ignition Cause                            |Ignition Factor Primary|Ignition Factor Secondary|Heat Source      |Item First Ignited                        |Human Factors Associated with Ignition|Structure Type|Structure Status|Floor of Fire Origin|Fire Spread|No Flame Spead|Number of floors with minimum damage|Number of floors with significant damage|Number of floors with heavy damage|Number of floors with extreme damage|Detectors Present|Detector Type|Detector Operation|Detector Effectiveness|Detector Failure Reason|Automatic Extinguishing System Present|Automatic Extinguishing Sytem Type|Automatic Extinguishing Sytem Perfomance|Automatic Extinguishing Sytem Failure Reason|Number of Sprinkler Heads Operating|Supervisor District|neighborhood_district|point                           |\n",
      "+---------------+---------------+--------+-----------------+-------------------+-----------+-------------------+-------------------+-------------------+----+-------+---------+------------+----+-----------------+---------------------+---------+-------------+-----------+---------------+-------------------+-----------------------+-----------------------+---------------+-------------+-------------------+-----------------+----------------+---------------------------------------------+----------+--------------------+----------------------+------------------+--------------------------+---------------------------------------+------------------------------------------+------------------------------------------+-----------------------+-------------------------+-----------------+------------------------------------------+--------------------------------------+--------------+----------------+--------------------+-----------+--------------+------------------------------------+----------------------------------------+----------------------------------+------------------------------------+-----------------+-------------+------------------+----------------------+-----------------------+--------------------------------------+----------------------------------+----------------------------------------+--------------------------------------------+-----------------------------------+-------------------+---------------------+--------------------------------+\n",
      "|8028303        |0              |80283030|85 Turner Tr.    |2008-04-01 00:00:00|80920256   |2008-04-01 18:00:52|2008-04-01 18:06:30|2008-04-01 18:22:18|SF  |94107  |B10      |37          |null|1                |4                    |0        |0            |0          |0              |E37                |null                   |null                   |0              |0            |0                  |0                |1               |552 - Police matter                          |None      |76 - Provide water  |-                     |-                 |-                         |960 - Street, other                    |null                                      |null                                      |null                   |null                     |null             |null                                      |null                                  |null          |null            |null                |null       |null          |null                                |null                                    |null                              |null                                |null             |null         |null              |null                  |null                   |null                                  |null                              |null                                    |null                                        |null                               |null               |Potrero Hill         |POINT (-122.39489 37.756291)    |\n",
      "|3000180        |0              |30001800|300 20th St.     |2003-01-01 00:00:00|30010240   |2003-01-01 07:21:39|2003-01-01 07:28:16|2003-01-01 07:52:09|SF  |94110  |B10      |25          |null|3                |12                   |0        |0            |0          |0              |E25                |0                      |0.0                    |0              |0            |0                  |0                |1               |522 - Water or steam leak                    |None      |86 - Investigate    |-                     |-                 |-                         |963 - Street or road in commercial area|null                                      |null                                      |null                   |null                     |null             |null                                      |null                                  |null          |null            |null                |null       |null          |null                                |null                                    |null                              |null                                |null             |null         |null              |null                  |null                   |null                                  |null                              |null                                    |null                                        |null                               |null               |Potrero Hill         |POINT (-122.384719 37.760774)   |\n",
      "|3008178        |0              |30081780|601 Minnesota St.|2003-01-29 00:00:00|30290037   |2003-01-29 07:23:55|2003-01-29 07:28:11|2003-01-29 07:53:58|SF  |94107  |B03      |29          |null|1                |4                    |0        |0            |0          |0              |E29                |0                      |0.0                    |0              |0            |0                  |0                |1               |131 - Passenger vehicle fire                 |None      |11 - Extinguish     |-                     |-                 |-                         |960 - Street, other                    |81 - Operator/passenger area/transport equ|U - Cause undetermined after investigation|-                      |-                        |UU - Undetermined|21 - Upholstered sofa, chair, vehicle seat|-                                     |null          |null            |null                |null       |null          |null                                |null                                    |null                              |null                                |null             |null         |null              |null                  |null                   |null                                  |null                              |null                                    |null                                        |null                               |null               |Potrero Hill         |POINT (-122.390607 37.762862)   |\n",
      "|3002587        |0              |30025870|1215 Carolina St.|2003-01-09 00:00:00|30090110   |2003-01-09 09:20:14|2003-01-09 09:25:08|2003-01-09 09:35:08|SF  |94107  |B10      |37          |null|1                |4                    |0        |0            |0          |0              |E09                |0                      |0.0                    |0              |0            |0                  |0                |1               |735 - Alarm system sounded due to malfunction|None      |86 - Investigate    |-                     |-                 |-                         |213 - Elem. school, inc. kindergarten  |null                                      |null                                      |null                   |null                     |null             |null                                      |null                                  |null          |null            |null                |null       |null          |null                                |null                                    |null                              |null                                |null             |null         |null              |null                  |null                   |null                                  |null                              |null                                    |null                                        |null                               |null               |Potrero Hill         |POINT (-122.399403 37.753323)   |\n",
      "|3005331        |0              |30053310|1034 Hampshire   |2003-01-18 00:00:00|30180340   |2003-01-18 19:56:42|2003-01-18 20:09:03|2003-01-18 20:13:55|SF  |94110  |B10      |37          |null|1                |4                    |0        |0            |0          |0              |E37                |0                      |0.0                    |0              |0            |0                  |0                |1               |151 - Outside rubbish, trash or waste fire   |None      |11 - Extinguish     |-                     |-                 |-                         |419 - 1 or 2 family dwelling           |null                                      |null                                      |null                   |null                     |null             |null                                      |null                                  |null          |null            |null                |null       |null          |null                                |null                                    |null                              |null                                |null             |null         |null              |null                  |null                   |null                                  |null                              |null                                    |null                                        |null                               |null               |Potrero Hill         |POINT (-122.4066274 37.75534626)|\n",
      "+---------------+---------------+--------+-----------------+-------------------+-----------+-------------------+-------------------+-------------------+----+-------+---------+------------+----+-----------------+---------------------+---------+-------------+-----------+---------------+-------------------+-----------------------+-----------------------+---------------+-------------+-------------------+-----------------+----------------+---------------------------------------------+----------+--------------------+----------------------+------------------+--------------------------+---------------------------------------+------------------------------------------+------------------------------------------+-----------------------+-------------------------+-----------------+------------------------------------------+--------------------------------------+--------------+----------------+--------------------+-----------+--------------+------------------------------------+----------------------------------------+----------------------------------+------------------------------------+-----------------+-------------+------------------+----------------------+-----------------------+--------------------------------------+----------------------------------+----------------------------------------+--------------------------------------------+-----------------------------------+-------------------+---------------------+--------------------------------+\n",
      "only showing top 5 rows\n",
      "\n"
     ]
    }
   ],
   "source": [
    "df_fire.filter(F.col(\"neighborhood_district\")=='Potrero Hill').show(5,truncate=False)"
   ]
  },
  {
   "cell_type": "code",
   "execution_count": 79,
   "metadata": {},
   "outputs": [
    {
     "name": "stdout",
     "output_type": "stream",
     "text": [
      "+----------------------------+\n",
      "|count(neighborhood_district)|\n",
      "+----------------------------+\n",
      "|                          41|\n",
      "+----------------------------+\n",
      "\n"
     ]
    }
   ],
   "source": [
    "# different count of neighborhood_district\n",
    "\n",
    "df_fire.where(F.col(\"neighborhood_district\").isNotNull()).agg(F.countDistinct('neighborhood_district')).show()"
   ]
  },
  {
   "cell_type": "code",
   "execution_count": 84,
   "metadata": {},
   "outputs": [
    {
     "name": "stdout",
     "output_type": "stream",
     "text": [
      "+---------------------+\n",
      "|neighborhood_district|\n",
      "+---------------------+\n",
      "|         Inner Sunset|\n",
      "|       Haight Ashbury|\n",
      "|         Lincoln Park|\n",
      "|            Japantown|\n",
      "|          North Beach|\n",
      "+---------------------+\n",
      "only showing top 5 rows\n",
      "\n"
     ]
    }
   ],
   "source": [
    "# listing them\n",
    "\n",
    "df_fire.select('neighborhood_district').where(F.col(\"neighborhood_district\").isNotNull()).distinct().show(5)"
   ]
  },
  {
   "cell_type": "code",
   "execution_count": 106,
   "metadata": {},
   "outputs": [
    {
     "name": "stdout",
     "output_type": "stream",
     "text": [
      "+---------------+---------------+--------+----------------------------+\n",
      "|Incident Number|Exposure Number|ID      |Address                     |\n",
      "+---------------+---------------+--------+----------------------------+\n",
      "|8028304        |0              |80283040|150 Elsie St.               |\n",
      "|8028303        |0              |80283030|85 Turner Tr.               |\n",
      "|8028309        |0              |80283090|175 6th St.                 |\n",
      "|8028314        |0              |80283140|633 Hayes St.               |\n",
      "|8028319        |0              |80283190|27th Av. / Cabrillo St.     |\n",
      "|8028337        |0              |80283370|165 Belgrave Av.            |\n",
      "|8028329        |0              |80283290|Grant Av. / Post St.        |\n",
      "|8028350        |0              |80283500|Cortland Av. / Andover St.  |\n",
      "|8028355        |0              |80283550|2nd St. / Brannan St.       |\n",
      "|8028352        |0              |80283520|300 Ortega St.              |\n",
      "|8028359        |0              |80283590|241 6th St.                 |\n",
      "|8028371        |0              |80283710|Mendell St. / Newhall St.   |\n",
      "|8028112        |0              |80281120|982 Market St.              |\n",
      "|8028114        |0              |80281140|1485 Bayshore Bl.           |\n",
      "|8028127        |0              |80281270|University St. / Wayland St.|\n",
      "|8028125        |0              |80281250|1 Sf Intl Airport           |\n",
      "|8028129        |0              |80281290|301 Main St.                |\n",
      "|8028137        |0              |80281370|21st Av. / Balboa St.       |\n",
      "|8028139        |0              |80281390|1225 Northpoint Dr.         |\n",
      "|8028155        |0              |80281550|Geary Bl. / 48th Av.        |\n",
      "+---------------+---------------+--------+----------------------------+\n",
      "only showing top 20 rows\n",
      "\n"
     ]
    }
   ],
   "source": [
    "df_fire.select(df_fire.columns[0:4]).show(truncate=False)"
   ]
  },
  {
   "cell_type": "code",
   "execution_count": 107,
   "metadata": {},
   "outputs": [
    {
     "name": "stdout",
     "output_type": "stream",
     "text": [
      "== Parsed Logical Plan ==\n",
      "Relation [Incident Number#839,Exposure Number#840,ID#841,Address#842,Incident Date#843,Call Number#844,Alarm DtTm#845,Arrival DtTm#846,Close DtTm#847,City#848,zipcode#849,Battalion#850,Station Area#851,Box#852,Suppression Units#853,Suppression Personnel#854,EMS Units#855,EMS Personnel#856,Other Units#857,Other Personnel#858,First Unit On Scene#859,Estimated Property Loss#860,Estimated Contents Loss#861,Fire Fatalities#862,... 40 more fields] csv\n",
      "\n",
      "== Analyzed Logical Plan ==\n",
      "Incident Number: int, Exposure Number: int, ID: int, Address: string, Incident Date: timestamp, Call Number: int, Alarm DtTm: timestamp, Arrival DtTm: timestamp, Close DtTm: timestamp, City: string, zipcode: string, Battalion: string, Station Area: string, Box: string, Suppression Units: int, Suppression Personnel: int, EMS Units: int, EMS Personnel: int, Other Units: int, Other Personnel: int, First Unit On Scene: string, Estimated Property Loss: int, Estimated Contents Loss: double, Fire Fatalities: int, ... 40 more fields\n",
      "Relation [Incident Number#839,Exposure Number#840,ID#841,Address#842,Incident Date#843,Call Number#844,Alarm DtTm#845,Arrival DtTm#846,Close DtTm#847,City#848,zipcode#849,Battalion#850,Station Area#851,Box#852,Suppression Units#853,Suppression Personnel#854,EMS Units#855,EMS Personnel#856,Other Units#857,Other Personnel#858,First Unit On Scene#859,Estimated Property Loss#860,Estimated Contents Loss#861,Fire Fatalities#862,... 40 more fields] csv\n",
      "\n",
      "== Optimized Logical Plan ==\n",
      "Relation [Incident Number#839,Exposure Number#840,ID#841,Address#842,Incident Date#843,Call Number#844,Alarm DtTm#845,Arrival DtTm#846,Close DtTm#847,City#848,zipcode#849,Battalion#850,Station Area#851,Box#852,Suppression Units#853,Suppression Personnel#854,EMS Units#855,EMS Personnel#856,Other Units#857,Other Personnel#858,First Unit On Scene#859,Estimated Property Loss#860,Estimated Contents Loss#861,Fire Fatalities#862,... 40 more fields] csv\n",
      "\n",
      "== Physical Plan ==\n",
      "FileScan csv [Incident Number#839,Exposure Number#840,ID#841,Address#842,Incident Date#843,Call Number#844,Alarm DtTm#845,Arrival DtTm#846,Close DtTm#847,City#848,zipcode#849,Battalion#850,Station Area#851,Box#852,Suppression Units#853,Suppression Personnel#854,EMS Units#855,EMS Personnel#856,Other Units#857,Other Personnel#858,First Unit On Scene#859,Estimated Property Loss#860,Estimated Contents Loss#861,Fire Fatalities#862,... 40 more fields] Batched: false, DataFilters: [], Format: CSV, Location: InMemoryFileIndex(1 paths)[file:/home/snehil/snehi/Desktop/Data/fire.csv], PartitionFilters: [], PushedFilters: [], ReadSchema: struct<Incident Number:int,Exposure Number:int,ID:int,Address:string,Incident Date:timestamp,Call...\n",
      "\n"
     ]
    }
   ],
   "source": [
    "df_fire.explain(True)"
   ]
  },
  {
   "attachments": {},
   "cell_type": "markdown",
   "metadata": {},
   "source": [
    "### `SQL Tables`"
   ]
  },
  {
   "attachments": {},
   "cell_type": "markdown",
   "metadata": {},
   "source": [
    "#### Managed Table or Internal"
   ]
  },
  {
   "cell_type": "code",
   "execution_count": 22,
   "metadata": {},
   "outputs": [
    {
     "name": "stderr",
     "output_type": "stream",
     "text": [
      "23/04/20 20:37:24 WARN ObjectStore: Failed to get database learn_spark, returning NoSuchObjectException\n",
      "23/04/20 20:37:24 WARN ObjectStore: Failed to get database learn_spark, returning NoSuchObjectException\n",
      "23/04/20 20:37:24 WARN ObjectStore: Failed to get database learn_spark, returning NoSuchObjectException\n"
     ]
    },
    {
     "data": {
      "text/plain": [
       "DataFrame[]"
      ]
     },
     "execution_count": 22,
     "metadata": {},
     "output_type": "execute_result"
    }
   ],
   "source": [
    "spark.sql('create database learn_spark')"
   ]
  },
  {
   "cell_type": "code",
   "execution_count": 19,
   "metadata": {},
   "outputs": [
    {
     "data": {
      "text/plain": [
       "DataFrame[]"
      ]
     },
     "execution_count": 19,
     "metadata": {},
     "output_type": "execute_result"
    }
   ],
   "source": [
    "spark.sql('use learn_spark')"
   ]
  },
  {
   "attachments": {},
   "cell_type": "markdown",
   "metadata": {},
   "source": [
    "##### using saveAsTable"
   ]
  },
  {
   "cell_type": "code",
   "execution_count": 40,
   "metadata": {},
   "outputs": [],
   "source": [
    "schema=\"`State` string, `Color` string, `Count` int\""
   ]
  },
  {
   "cell_type": "code",
   "execution_count": 41,
   "metadata": {},
   "outputs": [],
   "source": [
    "df.write.saveAsTable(\"mnm_1\",schema=schema)"
   ]
  },
  {
   "attachments": {},
   "cell_type": "markdown",
   "metadata": {},
   "source": [
    "##### using spark sql"
   ]
  },
  {
   "cell_type": "code",
   "execution_count": 63,
   "metadata": {},
   "outputs": [
    {
     "name": "stderr",
     "output_type": "stream",
     "text": [
      "23/04/20 21:03:01 WARN ResolveSessionCatalog: A Hive serde table will be created as there is no table provider specified. You can set spark.sql.legacy.createHiveTableByDefault to false so that native data source table will be created instead.\n",
      "23/04/20 21:03:01 WARN HiveMetaStore: Location: file:/home/snehil/Desktop/data-engineering-resources/4_spark/spark_book/spark-warehouse/learn_spark.db/mnm_2 specified for non-external table:mnm_2\n"
     ]
    },
    {
     "data": {
      "text/plain": [
       "DataFrame[]"
      ]
     },
     "execution_count": 63,
     "metadata": {},
     "output_type": "execute_result"
    }
   ],
   "source": [
    "# creating a managed table\n",
    "spark.sql(\"create table mnm_2 (`State` string, `Color` string, `Count` int)\")"
   ]
  },
  {
   "cell_type": "code",
   "execution_count": 64,
   "metadata": {},
   "outputs": [],
   "source": [
    "df.createOrReplaceTempView('mnm')"
   ]
  },
  {
   "cell_type": "code",
   "execution_count": 65,
   "metadata": {},
   "outputs": [
    {
     "data": {
      "text/plain": [
       "DataFrame[]"
      ]
     },
     "execution_count": 65,
     "metadata": {},
     "output_type": "execute_result"
    }
   ],
   "source": [
    "spark.sql(\"insert into mnm_2  select * from mnm\")"
   ]
  },
  {
   "cell_type": "code",
   "execution_count": 71,
   "metadata": {},
   "outputs": [
    {
     "name": "stdout",
     "output_type": "stream",
     "text": [
      "+----------------------------+------------------------------------------------------------------------------------------------------------+-------+\n",
      "|col_name                    |data_type                                                                                                   |comment|\n",
      "+----------------------------+------------------------------------------------------------------------------------------------------------+-------+\n",
      "|State                       |string                                                                                                      |null   |\n",
      "|Color                       |string                                                                                                      |null   |\n",
      "|Count                       |int                                                                                                         |null   |\n",
      "|                            |                                                                                                            |       |\n",
      "|# Detailed Table Information|                                                                                                            |       |\n",
      "|Catalog                     |spark_catalog                                                                                               |       |\n",
      "|Database                    |learn_spark                                                                                                 |       |\n",
      "|Table                       |mnm_2                                                                                                       |       |\n",
      "|Owner                       |snehil                                                                                                      |       |\n",
      "|Created Time                |Thu Apr 20 21:03:01 IST 2023                                                                                |       |\n",
      "|Last Access                 |UNKNOWN                                                                                                     |       |\n",
      "|Created By                  |Spark 3.4.0                                                                                                 |       |\n",
      "|Type                        |MANAGED                                                                                                     |       |\n",
      "|Provider                    |hive                                                                                                        |       |\n",
      "|Table Properties            |[transient_lastDdlTime=1682004787]                                                                          |       |\n",
      "|Statistics                  |1184854 bytes                                                                                               |       |\n",
      "|Location                    |file:/home/snehil/Desktop/data-engineering-resources/4_spark/spark_book/spark-warehouse/learn_spark.db/mnm_2|       |\n",
      "|Serde Library               |org.apache.hadoop.hive.serde2.lazy.LazySimpleSerDe                                                          |       |\n",
      "|InputFormat                 |org.apache.hadoop.mapred.TextInputFormat                                                                    |       |\n",
      "|OutputFormat                |org.apache.hadoop.hive.ql.io.HiveIgnoreKeyTextOutputFormat                                                  |       |\n",
      "+----------------------------+------------------------------------------------------------------------------------------------------------+-------+\n",
      "only showing top 20 rows\n",
      "\n"
     ]
    }
   ],
   "source": [
    "spark.sql('describe extended mnm_2').show(truncate=False)"
   ]
  },
  {
   "attachments": {},
   "cell_type": "markdown",
   "metadata": {},
   "source": [
    "#### Unmanaged Table or External"
   ]
  },
  {
   "attachments": {},
   "cell_type": "markdown",
   "metadata": {},
   "source": [
    "##### using sql"
   ]
  },
  {
   "cell_type": "code",
   "execution_count": 55,
   "metadata": {},
   "outputs": [
    {
     "name": "stderr",
     "output_type": "stream",
     "text": [
      "23/04/20 20:51:37 WARN HiveExternalCatalog: Couldn't find corresponding Hive SerDe for data source provider csv. Persisting data source table `spark_catalog`.`learn_spark`.`mnm_2_unmanaged` into Hive metastore in Spark SQL specific format, which is NOT compatible with Hive.\n"
     ]
    },
    {
     "data": {
      "text/plain": [
       "DataFrame[]"
      ]
     },
     "execution_count": 55,
     "metadata": {},
     "output_type": "execute_result"
    }
   ],
   "source": [
    "\n",
    "spark.sql(\"\"\"create table mnm_2_unmanaged (`State` string, `Color` string, `Count` int) using csv options (PATH '/home/snehil/Desktop/data-engineering-resources/4_spark/spark_book/data/mnm.csv')\"\"\")"
   ]
  },
  {
   "cell_type": "code",
   "execution_count": 57,
   "metadata": {},
   "outputs": [
    {
     "name": "stdout",
     "output_type": "stream",
     "text": [
      "+-----+-----+-----+\n",
      "|State|Color|Count|\n",
      "+-----+-----+-----+\n",
      "|State|Color| null|\n",
      "|   TX|  Red|   20|\n",
      "|   NV| Blue|   66|\n",
      "|   CO| Blue|   79|\n",
      "|   OR| Blue|   71|\n",
      "+-----+-----+-----+\n",
      "only showing top 5 rows\n",
      "\n"
     ]
    }
   ],
   "source": [
    "spark.sql('select * from mnm_2_unmanaged').show(5)"
   ]
  },
  {
   "cell_type": "code",
   "execution_count": 54,
   "metadata": {},
   "outputs": [
    {
     "name": "stderr",
     "output_type": "stream",
     "text": [
      "23/04/20 20:51:27 WARN HadoopFSUtils: The directory file:/home/snehil/Desktop/data-engineering-resources/4_spark/spark_book/data/mnm1.csv was not found. Was it deleted very recently?\n"
     ]
    },
    {
     "data": {
      "text/plain": [
       "DataFrame[]"
      ]
     },
     "execution_count": 54,
     "metadata": {},
     "output_type": "execute_result"
    }
   ],
   "source": [
    "#spark.sql('drop table mnm_2_unmanaged')"
   ]
  },
  {
   "attachments": {},
   "cell_type": "markdown",
   "metadata": {},
   "source": [
    "##### using saveAsTable"
   ]
  },
  {
   "cell_type": "code",
   "execution_count": 35,
   "metadata": {},
   "outputs": [],
   "source": [
    "df.write.mode('overwrite').option(\"path\", 'mnm_1_unmanaged').saveAsTable('mnm_1_unmanaged')"
   ]
  },
  {
   "cell_type": "code",
   "execution_count": 34,
   "metadata": {},
   "outputs": [
    {
     "name": "stdout",
     "output_type": "stream",
     "text": [
      "+----------------------------+----------------------------------------------------------------------------------------------------------------------+-------+\n",
      "|col_name                    |data_type                                                                                                             |comment|\n",
      "+----------------------------+----------------------------------------------------------------------------------------------------------------------+-------+\n",
      "|State                       |string                                                                                                                |null   |\n",
      "|Color                       |string                                                                                                                |null   |\n",
      "|Count                       |int                                                                                                                   |null   |\n",
      "|                            |                                                                                                                      |       |\n",
      "|# Detailed Table Information|                                                                                                                      |       |\n",
      "|Catalog                     |spark_catalog                                                                                                         |       |\n",
      "|Database                    |learn_spark                                                                                                           |       |\n",
      "|Table                       |mnm_1_unmanaged                                                                                                       |       |\n",
      "|Owner                       |snehil                                                                                                                |       |\n",
      "|Created Time                |Thu Apr 20 22:36:58 IST 2023                                                                                          |       |\n",
      "|Last Access                 |UNKNOWN                                                                                                               |       |\n",
      "|Created By                  |Spark 3.4.0                                                                                                           |       |\n",
      "|Type                        |EXTERNAL                                                                                                              |       |\n",
      "|Provider                    |parquet                                                                                                               |       |\n",
      "|Location                    |file:/home/snehil/Desktop/data-engineering-resources/4_spark/spark_book/spark-warehouse/learn_spark.db/mnm_1_unmanaged|       |\n",
      "|Serde Library               |org.apache.hadoop.hive.ql.io.parquet.serde.ParquetHiveSerDe                                                           |       |\n",
      "|InputFormat                 |org.apache.hadoop.hive.ql.io.parquet.MapredParquetInputFormat                                                         |       |\n",
      "|OutputFormat                |org.apache.hadoop.hive.ql.io.parquet.MapredParquetOutputFormat                                                        |       |\n",
      "+----------------------------+----------------------------------------------------------------------------------------------------------------------+-------+\n",
      "\n"
     ]
    }
   ],
   "source": [
    "spark.sql('describe extended mnm_1_unmanaged').show(truncate=False)"
   ]
  },
  {
   "attachments": {},
   "cell_type": "markdown",
   "metadata": {},
   "source": [
    "##### Reading the saved table"
   ]
  },
  {
   "cell_type": "code",
   "execution_count": 31,
   "metadata": {},
   "outputs": [
    {
     "name": "stderr",
     "output_type": "stream",
     "text": [
      "23/04/20 21:51:30 WARN SessionState: METASTORE_FILTER_HOOK will be ignored, since hive.security.authorization.manager is set to instance of HiveAuthorizerFactory.\n"
     ]
    },
    {
     "name": "stdout",
     "output_type": "stream",
     "text": [
      "+-----+------+-----+\n",
      "|State| Color|Count|\n",
      "+-----+------+-----+\n",
      "|   TX|   Red|   20|\n",
      "|   NV|  Blue|   66|\n",
      "|   CO|  Blue|   79|\n",
      "|   OR|  Blue|   71|\n",
      "|   WA|Yellow|   93|\n",
      "+-----+------+-----+\n",
      "only showing top 5 rows\n",
      "\n"
     ]
    }
   ],
   "source": [
    "df_read = spark.table('learn_spark.mnm_2')\n",
    "df_read.show(5)"
   ]
  },
  {
   "attachments": {},
   "cell_type": "markdown",
   "metadata": {},
   "source": [
    "### `SQL Views`"
   ]
  },
  {
   "cell_type": "code",
   "execution_count": 79,
   "metadata": {},
   "outputs": [],
   "source": [
    "df_agg = spark.sql('select `State`,`Color`,count(`Count`) from learn_spark.mnm_1 group by `State`,`Color`')\n",
    "\n",
    "# global temporary view\n",
    "df_agg.createOrReplaceGlobalTempView('global_temp_mnm_view')"
   ]
  },
  {
   "cell_type": "code",
   "execution_count": 80,
   "metadata": {},
   "outputs": [],
   "source": [
    "# temporary view\n",
    "df_agg.createOrReplaceTempView('global_temp_mnm_view')"
   ]
  },
  {
   "attachments": {},
   "cell_type": "markdown",
   "metadata": {},
   "source": [
    "Note : when accessing a global temporary view you must use the prefix global_temp.<view_name>"
   ]
  },
  {
   "cell_type": "code",
   "execution_count": 81,
   "metadata": {},
   "outputs": [
    {
     "name": "stdout",
     "output_type": "stream",
     "text": [
      "+-----+------+------------+\n",
      "|State| Color|count(Count)|\n",
      "+-----+------+------------+\n",
      "|   WY| Green|        1695|\n",
      "|   NV|   Red|        1610|\n",
      "|   UT|  Blue|        1655|\n",
      "|   WA|Orange|        1658|\n",
      "|   NM| Green|        1682|\n",
      "+-----+------+------------+\n",
      "only showing top 5 rows\n",
      "\n"
     ]
    }
   ],
   "source": [
    "spark.sql('select * from global_temp.global_temp_mnm_view').show(5)"
   ]
  },
  {
   "attachments": {},
   "cell_type": "markdown",
   "metadata": {},
   "source": [
    "### `Viewing the Metadata - Spark Catalog`"
   ]
  },
  {
   "cell_type": "code",
   "execution_count": 86,
   "metadata": {},
   "outputs": [
    {
     "data": {
      "text/plain": [
       "[Database(name='default', catalog='spark_catalog', description='Default Hive database', locationUri='file:/home/snehil/Desktop/data-engineering-resources/4_spark/spark_book/spark-warehouse'),\n",
       " Database(name='learn_spark', catalog='spark_catalog', description='', locationUri='file:/home/snehil/Desktop/data-engineering-resources/4_spark/spark_book/spark-warehouse/learn_spark.db')]"
      ]
     },
     "execution_count": 86,
     "metadata": {},
     "output_type": "execute_result"
    }
   ],
   "source": [
    "spark.catalog.listDatabases()"
   ]
  },
  {
   "cell_type": "code",
   "execution_count": 87,
   "metadata": {},
   "outputs": [
    {
     "data": {
      "text/plain": [
       "[Table(name='mnm_1', catalog='spark_catalog', namespace=['learn_spark'], description=None, tableType='MANAGED', isTemporary=False),\n",
       " Table(name='mnm_1_unmanaged', catalog='spark_catalog', namespace=['learn_spark'], description=None, tableType='EXTERNAL', isTemporary=False),\n",
       " Table(name='mnm_2', catalog='spark_catalog', namespace=['learn_spark'], description=None, tableType='MANAGED', isTemporary=False),\n",
       " Table(name='mnm_2_unmanaged', catalog='spark_catalog', namespace=['learn_spark'], description=None, tableType='EXTERNAL', isTemporary=False),\n",
       " Table(name='global_temp_mnm_view', catalog=None, namespace=[], description=None, tableType='TEMPORARY', isTemporary=True)]"
      ]
     },
     "execution_count": 87,
     "metadata": {},
     "output_type": "execute_result"
    }
   ],
   "source": [
    "spark.catalog.listTables()"
   ]
  },
  {
   "cell_type": "code",
   "execution_count": 90,
   "metadata": {},
   "outputs": [
    {
     "data": {
      "text/plain": [
       "[Column(name='State', description=None, dataType='string', nullable=True, isPartition=False, isBucket=False),\n",
       " Column(name='Color', description=None, dataType='string', nullable=True, isPartition=False, isBucket=False),\n",
       " Column(name='Count', description=None, dataType='int', nullable=True, isPartition=False, isBucket=False)]"
      ]
     },
     "execution_count": 90,
     "metadata": {},
     "output_type": "execute_result"
    }
   ],
   "source": [
    "spark.catalog.listColumns(\"learn_spark.mnm_2\")"
   ]
  },
  {
   "cell_type": "code",
   "execution_count": 91,
   "metadata": {},
   "outputs": [
    {
     "name": "stdout",
     "output_type": "stream",
     "text": [
      "+------------+---------+-------+\n",
      "|col_name    |data_type|comment|\n",
      "+------------+---------+-------+\n",
      "|State       |string   |null   |\n",
      "|Color       |string   |null   |\n",
      "|count(Count)|bigint   |null   |\n",
      "+------------+---------+-------+\n",
      "\n"
     ]
    }
   ],
   "source": [
    "spark.sql('describe extended global_temp.global_temp_mnm_view').show(truncate=False)"
   ]
  },
  {
   "attachments": {},
   "cell_type": "markdown",
   "metadata": {},
   "source": [
    "### `Caching`\n",
    "\n",
    "-- In SQL\n",
    "\n",
    "* CACHE [LAZY] TABLE <table-name>\n",
    "\n",
    "* UNCACHE TABLE <table-name>"
   ]
  },
  {
   "attachments": {},
   "cell_type": "markdown",
   "metadata": {},
   "source": [
    "### `Reading an Image file in a dataframe`"
   ]
  },
  {
   "cell_type": "code",
   "execution_count": 113,
   "metadata": {},
   "outputs": [],
   "source": [
    "from pyspark.ml import image\n",
    "image_dir = 'data/train_images/'\n",
    "image_df = spark.read.format(\"image\").load(image_dir)"
   ]
  },
  {
   "cell_type": "code",
   "execution_count": 114,
   "metadata": {},
   "outputs": [
    {
     "name": "stdout",
     "output_type": "stream",
     "text": [
      "root\n",
      " |-- image: struct (nullable = true)\n",
      " |    |-- origin: string (nullable = true)\n",
      " |    |-- height: integer (nullable = true)\n",
      " |    |-- width: integer (nullable = true)\n",
      " |    |-- nChannels: integer (nullable = true)\n",
      " |    |-- mode: integer (nullable = true)\n",
      " |    |-- data: binary (nullable = true)\n",
      "\n"
     ]
    }
   ],
   "source": [
    "image_df.printSchema()"
   ]
  },
  {
   "cell_type": "code",
   "execution_count": 119,
   "metadata": {},
   "outputs": [
    {
     "name": "stdout",
     "output_type": "stream",
     "text": [
      "+--------------------------------------------------------------------------------------------------------+------+-----+---------+----+\n",
      "|origin                                                                                                  |height|width|nChannels|mode|\n",
      "+--------------------------------------------------------------------------------------------------------+------+-----+---------+----+\n",
      "|file:///home/snehil/Desktop/data-engineering-resources/4_spark/spark_book/data/train_images/IMG_0074.PNG|1135  |1825 |4        |24  |\n",
      "|file:///home/snehil/Desktop/data-engineering-resources/4_spark/spark_book/data/train_images/IMG_0073.PNG|1172  |2360 |4        |24  |\n",
      "+--------------------------------------------------------------------------------------------------------+------+-----+---------+----+\n",
      "\n"
     ]
    }
   ],
   "source": [
    "image_df.select('image.origin','image.height','image.width','image.nChannels','image.mode').show(truncate=False)"
   ]
  },
  {
   "cell_type": "code",
   "execution_count": null,
   "metadata": {},
   "outputs": [],
   "source": []
  }
 ],
 "metadata": {
  "kernelspec": {
   "display_name": ".venv",
   "language": "python",
   "name": "python3"
  },
  "language_info": {
   "codemirror_mode": {
    "name": "ipython",
    "version": 3
   },
   "file_extension": ".py",
   "mimetype": "text/x-python",
   "name": "python",
   "nbconvert_exporter": "python",
   "pygments_lexer": "ipython3",
   "version": "3.8.10"
  },
  "orig_nbformat": 4
 },
 "nbformat": 4,
 "nbformat_minor": 2
}
